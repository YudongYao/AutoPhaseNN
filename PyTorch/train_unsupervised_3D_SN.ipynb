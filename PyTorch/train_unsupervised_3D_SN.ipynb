{
 "cells": [
  {
   "cell_type": "markdown",
   "metadata": {
    "tags": []
   },
   "source": [
    "# AutoPhaseNN\n",
    "#### Pytorch version (under development)"
   ]
  },
  {
   "cell_type": "code",
   "execution_count": 1,
   "metadata": {
    "id": "A_1lijuK4Pi_"
   },
   "outputs": [],
   "source": [
    "import os\n",
    "os.environ[\"CUDA_VISIBLE_DEVICES\"]=\"7\"\n",
    "\n",
    "import torch, torchvision\n",
    "import torch.nn as nn\n",
    "import torch.optim as optim\n",
    "import torch.nn.functional as F\n",
    "from torchinfo import summary\n",
    "from tqdm.notebook import tqdm \n",
    "import numpy as np\n",
    "from numpy.fft import fftn, fftshift\n",
    "from torch.utils.data import TensorDataset, DataLoader\n",
    "from torch.utils.data.distributed import DistributedSampler\n",
    "import matplotlib.pyplot as plt\n",
    "import matplotlib"
   ]
  },
  {
   "cell_type": "code",
   "execution_count": 2,
   "metadata": {},
   "outputs": [],
   "source": [
    "from data_loader import *"
   ]
  },
  {
   "cell_type": "code",
   "execution_count": 3,
   "metadata": {
    "colab": {
     "base_uri": "https://localhost:8080/",
     "height": 34
    },
    "id": "PzTU_HGIlbrk",
    "outputId": "8ada511e-6bec-4ad5-8fba-143eaa924286"
   },
   "outputs": [],
   "source": [
    "plt.style.use('seaborn-white')\n",
    "#matplotlib.rc('xtick', labelsize=20) \n",
    "#matplotlib.rc('ytick', labelsize=20)\n",
    "matplotlib.rc('font',family='Times New Roman')\n",
    "matplotlib.rcParams['font.size'] = 20\n",
    "plt.viridis()\n",
    "%matplotlib inline"
   ]
  },
  {
   "cell_type": "markdown",
   "metadata": {},
   "source": [
    "## Define Contants\n",
    "GPUs, Batch size, Training and Validation size, Shrink Wrap params, Epochs"
   ]
  },
  {
   "cell_type": "code",
   "execution_count": 4,
   "metadata": {},
   "outputs": [
    {
     "name": "stdout",
     "output_type": "stream",
     "text": [
      "/lcrc/project/AutoPhase/SN/\n"
     ]
    }
   ],
   "source": [
    "EPOCHS = 60 #Full cycle is 12 epochs, good to end on a minimum\n",
    "\n",
    "scale_I = 1 # normalize diff or not\n",
    "\n",
    "MODEL_SAVE_PATH = '/lcrc/project/AutoPhase/SN/'\n",
    "print(MODEL_SAVE_PATH)"
   ]
  },
  {
   "cell_type": "code",
   "execution_count": 5,
   "metadata": {},
   "outputs": [
    {
     "name": "stdout",
     "output_type": "stream",
     "text": [
      "GPUs: 1 Batch size: 32 Learning rate: 0.0001\n",
      "SW Thresh increment 0.0005084745762711864\n"
     ]
    }
   ],
   "source": [
    "NGPUS = torch.cuda.device_count()\n",
    "BATCH_SIZE = NGPUS * 32 \n",
    "LR = NGPUS * 1e-4\n",
    "print(\"GPUs:\", NGPUS, \"Batch size:\", BATCH_SIZE, \"Learning rate:\", LR)\n",
    "\n",
    "N_TRAIN = 50000\n",
    "N_VALID = int(0.1*N_TRAIN)\n",
    "TRAIN_ratio = 0.9\n",
    "\n",
    "INIT_SW = 0.07\n",
    "FINAL_SW = 0.1 #Anything >0.07 seems to break it\n",
    "CONST_EPOCHS = 0 #How many epochs to not increase SW\n",
    "\n",
    "SW_INCREMENT = (FINAL_SW-INIT_SW)/(EPOCHS-1-CONST_EPOCHS)\n",
    "print(\"SW Thresh increment\", SW_INCREMENT)\n"
   ]
  },
  {
   "cell_type": "code",
   "execution_count": 6,
   "metadata": {
    "colab": {
     "base_uri": "https://localhost:8080/"
    },
    "id": "UUs6abtm45Uw",
    "outputId": "ab450f18-7887-4365-dc8c-c5b69ca6505a"
   },
   "outputs": [
    {
     "name": "stdout",
     "output_type": "stream",
     "text": [
      "PyTorch version 1.10.0\n",
      "Fri Aug 12 15:09:10 2022       \n",
      "+-----------------------------------------------------------------------------+\n",
      "| NVIDIA-SMI 470.129.06   Driver Version: 470.129.06   CUDA Version: 11.4     |\n",
      "|-------------------------------+----------------------+----------------------+\n",
      "| GPU  Name        Persistence-M| Bus-Id        Disp.A | Volatile Uncorr. ECC |\n",
      "| Fan  Temp  Perf  Pwr:Usage/Cap|         Memory-Usage | GPU-Util  Compute M. |\n",
      "|                               |                      |               MIG M. |\n",
      "|===============================+======================+======================|\n",
      "|   0  NVIDIA A100-SXM...  Off  | 00000000:07:00.0 Off |                    0 |\n",
      "| N/A   29C    P0    70W / 400W |  30096MiB / 81251MiB |      0%      Default |\n",
      "|                               |                      |             Disabled |\n",
      "+-------------------------------+----------------------+----------------------+\n",
      "|   1  NVIDIA A100-SXM...  Off  | 00000000:0F:00.0 Off |                    0 |\n",
      "| N/A   28C    P0    67W / 400W |  30232MiB / 81251MiB |      0%      Default |\n",
      "|                               |                      |             Disabled |\n",
      "+-------------------------------+----------------------+----------------------+\n",
      "|   2  NVIDIA A100-SXM...  Off  | 00000000:47:00.0 Off |                    0 |\n",
      "| N/A   28C    P0    64W / 400W |  30230MiB / 81251MiB |      0%      Default |\n",
      "|                               |                      |             Disabled |\n",
      "+-------------------------------+----------------------+----------------------+\n",
      "|   3  NVIDIA A100-SXM...  Off  | 00000000:4E:00.0 Off |                    0 |\n",
      "| N/A   30C    P0    67W / 400W |  30230MiB / 81251MiB |      0%      Default |\n",
      "|                               |                      |             Disabled |\n",
      "+-------------------------------+----------------------+----------------------+\n",
      "|   4  NVIDIA A100-SXM...  Off  | 00000000:87:00.0 Off |                    0 |\n",
      "| N/A   39C    P0    70W / 400W |  30226MiB / 81251MiB |      0%      Default |\n",
      "|                               |                      |             Disabled |\n",
      "+-------------------------------+----------------------+----------------------+\n",
      "|   5  NVIDIA A100-SXM...  Off  | 00000000:90:00.0 Off |                    0 |\n",
      "| N/A   38C    P0    70W / 400W |  30230MiB / 81251MiB |      0%      Default |\n",
      "|                               |                      |             Disabled |\n",
      "+-------------------------------+----------------------+----------------------+\n",
      "|   6  NVIDIA A100-SXM...  Off  | 00000000:B7:00.0 Off |                    0 |\n",
      "| N/A   40C    P0    71W / 400W |  30230MiB / 81251MiB |      0%      Default |\n",
      "|                               |                      |             Disabled |\n",
      "+-------------------------------+----------------------+----------------------+\n",
      "|   7  NVIDIA A100-SXM...  Off  | 00000000:BD:00.0 Off |                    0 |\n",
      "| N/A   41C    P0    69W / 400W |  30096MiB / 81251MiB |      0%      Default |\n",
      "|                               |                      |             Disabled |\n",
      "+-------------------------------+----------------------+----------------------+\n",
      "                                                                               \n",
      "+-----------------------------------------------------------------------------+\n",
      "| Processes:                                                                  |\n",
      "|  GPU   GI   CI        PID   Type   Process name                  GPU Memory |\n",
      "|        ID   ID                                                   Usage      |\n",
      "|=============================================================================|\n",
      "|    0   N/A  N/A   1466957      C   .../envs/pytorch1/bin/python    30027MiB |\n",
      "|    1   N/A  N/A   1466958      C   .../envs/pytorch1/bin/python    30163MiB |\n",
      "|    2   N/A  N/A   1466959      C   .../envs/pytorch1/bin/python    30161MiB |\n",
      "|    3   N/A  N/A   1466960      C   .../envs/pytorch1/bin/python    30161MiB |\n",
      "|    4   N/A  N/A   1466961      C   .../envs/pytorch1/bin/python    30161MiB |\n",
      "|    5   N/A  N/A   1466962      C   .../envs/pytorch1/bin/python    30161MiB |\n",
      "|    6   N/A  N/A   1466963      C   .../envs/pytorch1/bin/python    30161MiB |\n",
      "|    7   N/A  N/A   1466964      C   .../envs/pytorch1/bin/python    30027MiB |\n",
      "+-----------------------------------------------------------------------------+\n"
     ]
    }
   ],
   "source": [
    "print (\"PyTorch version\", torch.__version__)\n",
    "!nvidia-smi\n",
    "#!cat /proc/cpuinfo | grep processor"
   ]
  },
  {
   "cell_type": "markdown",
   "metadata": {},
   "source": [
    "### Plotting Helper"
   ]
  },
  {
   "cell_type": "code",
   "execution_count": 7,
   "metadata": {
    "id": "oe6xgBSAbKUZ"
   },
   "outputs": [],
   "source": [
    "def plot3(data,titles):\n",
    "    if(len(titles)<3):\n",
    "        titles=[\"Plot1\", \"Plot2\", \"Plot3\"]\n",
    "    ind = data[0].shape[0]//2\n",
    "    fig,ax = plt.subplots(1,3, figsize=(19,5))\n",
    "    im=ax[0].imshow(data[0][ind])\n",
    "    plt.colorbar(im, ax=ax[0])\n",
    "    ax[0].set_title(titles[0])\n",
    "    im=ax[1].imshow(data[1][ind])\n",
    "    plt.colorbar(im, ax=ax[1])\n",
    "    ax[1].set_title(titles[1])\n",
    "    im=ax[2].imshow(data[2][ind])\n",
    "    plt.colorbar(im, ax=ax[2])\n",
    "    ax[2].set_title(titles[2])"
   ]
  },
  {
   "cell_type": "code",
   "execution_count": 8,
   "metadata": {},
   "outputs": [],
   "source": [
    "def plot6(data,titles):\n",
    "    if(len(titles)<3):\n",
    "        titles=[\"Plot1\", \"Plot2\", \"Plot3\", \"Plot4\", \"Plot5\", \"Plot6\"]\n",
    "    ind = data[0].shape[0]//2\n",
    "    fig, axes = plt.subplots(1,6, figsize=(19,3), constrained_layout=True)\n",
    "    for ix, ax in enumerate(axes):\n",
    "        im=ax.imshow(data[ix][ind])\n",
    "        plt.colorbar(im, ax=ax)\n",
    "        ax.set_title(titles[ix])"
   ]
  },
  {
   "cell_type": "markdown",
   "metadata": {},
   "source": [
    "## Load and check data, then prepare as tensors"
   ]
  },
  {
   "cell_type": "code",
   "execution_count": 9,
   "metadata": {},
   "outputs": [
    {
     "name": "stdout",
     "output_type": "stream",
     "text": [
      "number of available file:54028\n",
      "number of training:50000\n"
     ]
    }
   ],
   "source": [
    "# # data loader\n",
    "data_path = '/lcrc/project/AutoPhase/CDI_simulation_upsamp_noise/'\n",
    "\n",
    "dataname_list = os.path.join(data_path, '3D_upsamp.txt')\n",
    "filelist = []\n",
    "\n",
    "with open(dataname_list, 'r') as f:\n",
    "    txtfile = f.readlines()\n",
    "for i in range(len(txtfile)):\n",
    "    tmp = str(txtfile[i]).split('/')[-1]\n",
    "    tmp = tmp.split('\\n')[0]\n",
    "\n",
    "    filelist.append(tmp)\n",
    "f.close()\n",
    "print('number of available file:%d' % len(filelist))\n",
    "\n",
    "# give training data size and filelist\n",
    "# train_file_indxs = np.random.randint(len(filelist), size=N_TRAIN).astype('int')\n",
    "# train_filelist = [filelist[idx] for idx in train_file_indxs]\n",
    "train_filelist = filelist[:N_TRAIN]\n",
    "print('number of training:%d' % len(train_filelist))\n"
   ]
  },
  {
   "cell_type": "code",
   "execution_count": 10,
   "metadata": {},
   "outputs": [],
   "source": [
    "# load training data and validation data\n",
    "train_dataset = Dataset(\n",
    "    train_filelist, data_path, load_all=False, ratio=TRAIN_ratio, dataset='train',scale_I=scale_I)\n",
    "train_loader = DataLoader(\n",
    "    train_dataset, batch_size=BATCH_SIZE, shuffle=True, num_workers=NGPUS*8)\n",
    "# train_sampler = DistributedSampler(\n",
    "#     train_dataset, num_replicas=NGPUS, rank=rank, shuffle=True)\n",
    "# train_loader = DataLoader(\n",
    "#     train_dataset, batch_size=BATCH_SIZE, sampler=train_sampler, shuffle=False, num_workers=NGPUS*8)\n",
    "\n",
    "\n",
    "validation_dataset = Dataset(\n",
    "    train_filelist, data_path, load_all=False, ratio=TRAIN_ratio, dataset='validation',scale_I=scale_I)\n",
    "validation_loader = DataLoader(\n",
    "    validation_dataset, batch_size=BATCH_SIZE, shuffle=True, num_workers=NGPUS*64)\n",
    "# validation_sampler = DistributedSampler(\n",
    "#     validation_dataset, num_replicas=NGPUS, rank=rank, shuffle=True)\n",
    "# validation_loader = DataLoader(\n",
    "#     validation_dataset, batch_size=BATCH_SIZE, sampler=validation_sampler, shuffle=False, num_workers=NGPUS*8)"
   ]
  },
  {
   "cell_type": "code",
   "execution_count": 11,
   "metadata": {},
   "outputs": [],
   "source": [
    "nconv = 32\n",
    "h,w,t = 32,32,32\n",
    "\n",
    "class recon_model(nn.Module):\n",
    "\n",
    "  H,W = h,w\n",
    "\n",
    "  def __init__(self):\n",
    "    super(recon_model, self).__init__()\n",
    "    \n",
    "    self.sw_thresh = INIT_SW\n",
    "    \n",
    "    self.encoder = nn.Sequential( # Appears sequential has similar functionality as TF avoiding need for separate model definition and activ\n",
    "      nn.Conv3d(in_channels=1, out_channels=nconv, kernel_size=3, stride=1, padding=1),\n",
    "#       nn.ReLU(),\n",
    "      nn.LeakyReLU(negative_slope=0.01),\n",
    "      nn.BatchNorm3d(nconv),\n",
    "      nn.Conv3d(in_channels=nconv, out_channels=nconv * 2, kernel_size=3, stride=2, padding=1),\n",
    "#       nn.ReLU(),\n",
    "      nn.LeakyReLU(negative_slope=0.01),\n",
    "      nn.BatchNorm3d(nconv * 2),\n",
    "      #nn.MaxPool3d((2,2,2)),\n",
    "    \n",
    "      nn.Conv3d(nconv* 2, nconv*2, 3, stride=1, padding=1),\n",
    "#       nn.ReLU(),\n",
    "      nn.LeakyReLU(negative_slope=0.01),\n",
    "      nn.BatchNorm3d(nconv*2),\n",
    "      nn.Conv3d(nconv*2, nconv*4, 3, stride=2, padding=1),\n",
    "#       nn.ReLU(),\n",
    "      nn.LeakyReLU(negative_slope=0.01),\n",
    "      nn.BatchNorm3d(nconv* 4),\n",
    "      #nn.MaxPool3d((2,2,2)),\n",
    "        \n",
    "      nn.Conv3d(nconv*4, nconv*4, 3, stride=1, padding=1),\n",
    "#       nn.ReLU(),\n",
    "      nn.LeakyReLU(negative_slope=0.01),\n",
    "      nn.BatchNorm3d(nconv*4),\n",
    "      nn.Conv3d(nconv*4, nconv*8, 3, stride=2, padding=1),\n",
    "#       nn.ReLU(),\n",
    "      nn.LeakyReLU(negative_slope=0.01),\n",
    "      nn.BatchNorm3d(nconv*8),\n",
    "      #=nn.MaxPool3d((2,2,2)),\n",
    "        \n",
    "      nn.Conv3d(nconv*8, nconv*8, 3, stride=2, padding=1),\n",
    "#       nn.ReLU(),\n",
    "      nn.LeakyReLU(negative_slope=0.01),\n",
    "      nn.BatchNorm3d(nconv*8),\n",
    "      #nn.MaxPool3d((2,2,2))\n",
    "      )\n",
    "    \n",
    "    self.decoder1 = nn.Sequential(\n",
    "      nn.Conv3d(nconv*8, nconv*4, 3, stride=1, padding=1),\n",
    "#       nn.ReLU(),\n",
    "      nn.LeakyReLU(negative_slope=0.01),\n",
    "      nn.BatchNorm3d(nconv*4),\n",
    "      nn.Conv3d(nconv*4, nconv*4, 3, stride=1, padding=1),\n",
    "#       nn.ReLU(),\n",
    "      nn.LeakyReLU(negative_slope=0.01),\n",
    "      nn.BatchNorm3d(nconv*4),\n",
    "      nn.Upsample(scale_factor=2, mode='trilinear'),\n",
    "    \n",
    "      nn.Conv3d(nconv*4, nconv*2, 3, stride=1, padding=1),\n",
    "      #nn.ConvTranspose3d(nconv*4, nconv*2, 3, stride=2, padding=1, output_padding=1),\n",
    "#       nn.ReLU(),\n",
    "      nn.LeakyReLU(negative_slope=0.01),\n",
    "      nn.BatchNorm3d(nconv*2),\n",
    "      nn.Conv3d(nconv*2, nconv*2, 3, stride=1, padding=1),\n",
    "#       nn.ReLU(),\n",
    "      nn.LeakyReLU(negative_slope=0.01),\n",
    "      nn.BatchNorm3d(nconv*2),\n",
    "      nn.Upsample(scale_factor=2, mode='trilinear'), \n",
    "       \n",
    "      nn.Conv3d(nconv*2, nconv, 3, stride=1, padding=1),  \n",
    "      #nn.ConvTranspose3d(nconv*2, nconv, 3, stride=2, padding=1, output_padding=1),\n",
    "#       nn.ReLU(),\n",
    "      nn.LeakyReLU(negative_slope=0.01),\n",
    "      nn.BatchNorm3d(nconv),\n",
    "      nn.Conv3d(nconv, nconv, 3, stride=1, padding=1),\n",
    "#       nn.ReLU(),\n",
    "      nn.LeakyReLU(negative_slope=0.01),\n",
    "      nn.BatchNorm3d(nconv),\n",
    "      nn.Upsample(scale_factor=2, mode='trilinear'),\n",
    " \n",
    "      nn.Conv3d(nconv, 1, 3, stride=1, padding=1),\n",
    "      #nn.ConvTranspose3d(nconv, 1, 3, stride=2, padding=1, output_padding=1),\n",
    "      nn.Sigmoid() #Amplitude model\n",
    "#       nn.ReLU(),\n",
    "      )\n",
    "    \n",
    "    self.decoder2 = nn.Sequential(\n",
    "      nn.Conv3d(nconv*8, nconv*4, 3, stride=1, padding=1),\n",
    "#       nn.ReLU(),\n",
    "      nn.LeakyReLU(negative_slope=0.01),\n",
    "      nn.BatchNorm3d(nconv*4),\n",
    "      nn.Conv3d(nconv*4, nconv*4, 3, stride=1, padding=1),\n",
    "#       nn.ReLU(),\n",
    "      nn.LeakyReLU(negative_slope=0.01),\n",
    "      nn.BatchNorm3d(nconv*4),\n",
    "      nn.Upsample(scale_factor=2, mode='trilinear'),\n",
    "    \n",
    "      nn.Conv3d(nconv*4, nconv*2, 3, stride=1, padding=1),\n",
    "      #nn.ConvTranspose3d(nconv*4, nconv*2, 3, stride=2, padding=1, output_padding=1),\n",
    "#       nn.ReLU(),\n",
    "      nn.LeakyReLU(negative_slope=0.01),\n",
    "      nn.BatchNorm3d(nconv*2),\n",
    "      nn.Conv3d(nconv*2, nconv*2, 3, stride=1, padding=1),\n",
    "#       nn.ReLU(),\n",
    "      nn.LeakyReLU(negative_slope=0.01),\n",
    "      nn.BatchNorm3d(nconv*2),\n",
    "      nn.Upsample(scale_factor=2, mode='trilinear'), \n",
    "       \n",
    "      nn.Conv3d(nconv*2, nconv, 3, stride=1, padding=1),  \n",
    "      #nn.ConvTranspose3d(nconv*2, nconv, 3, stride=2, padding=1, output_padding=1),\n",
    "#       nn.ReLU(),\n",
    "      nn.LeakyReLU(negative_slope=0.01),\n",
    "      nn.BatchNorm3d(nconv),\n",
    "      nn.Conv3d(nconv, nconv, 3, stride=1, padding=1),\n",
    "#       nn.ReLU(),\n",
    "      nn.LeakyReLU(negative_slope=0.01),\n",
    "      nn.BatchNorm3d(nconv),\n",
    "      nn.Upsample(scale_factor=2, mode='trilinear'),\n",
    " \n",
    "      nn.Conv3d(nconv, 1, 3, stride=1, padding=1),\n",
    "      #nn.ConvTranspose3d(nconv, 1, 3, stride=2, padding=1, output_padding=1),\n",
    "      nn.Tanh() #Phase model\n",
    "#       nn.ReLU(),\n",
    "      )\n",
    "\n",
    "\n",
    "  def forward(self,x):\n",
    "    x1 = self.encoder(x)\n",
    "    \n",
    "    amp = self.decoder1(x1)\n",
    "    ph = self.decoder2(x1)\n",
    "    \n",
    "    #Normalize amp to max 1 before applying support\n",
    "    \n",
    "    #max_A = torch.amax(amp, dim=[-1, -2, -3], keepdim=True)\n",
    "    #amp = torch.div(amp,max_A+1e-6) #Prevent zero div\n",
    "    amp = torch.clip(amp, min=0, max=1.0)\n",
    "    \n",
    "    #Apply the support to amplitude\n",
    "    mask = torch.tensor([0,1],dtype=amp.dtype, device=amp.device)\n",
    "    amp = torch.where(amp<self.sw_thresh,mask[0],amp)\n",
    "    \n",
    "    #Restore -pi to pi range\n",
    "    ph = ph*np.pi #Using tanh activation (-1 to 1) for phase so multiply by pi\n",
    "\n",
    "    #Pad the predictions to 2X\n",
    "    pad = nn.ConstantPad3d(int(self.H/2),0)\n",
    "    amp = pad(amp)\n",
    "    ph = pad(ph)\n",
    "\n",
    "    #Create the complex number\n",
    "    complex_x = torch.complex(amp*torch.cos(ph),amp*torch.sin(ph))\n",
    "\n",
    "    #Compute FT, shift and take abs\n",
    "    y = torch.fft.fftn(complex_x,dim=(-3,-2,-1))\n",
    "    y = torch.fft.fftshift(y,dim=(-3,-2,-1)) #FFT shift will move the wrong dimensions if not specified\n",
    "    y = torch.abs(y)\n",
    "    \n",
    "    #Normalize to scale_I\n",
    "    if scale_I>0:\n",
    "        max_I = torch.amax(y, dim=[-1, -2, -3], keepdim=True)\n",
    "        y = scale_I*torch.div(y,max_I+1e-6) #Prevent zero div\n",
    "    \n",
    "    #get support for viz\n",
    "    support = torch.zeros(amp.shape,device=amp.device)\n",
    "    support = torch.where(amp<self.sw_thresh,mask[0],mask[1])\n",
    "    #return amp, ph, support\n",
    "    return y, complex_x, amp, ph, support"
   ]
  },
  {
   "cell_type": "markdown",
   "metadata": {},
   "source": [
    "### Check the model works"
   ]
  },
  {
   "cell_type": "code",
   "execution_count": 12,
   "metadata": {
    "colab": {
     "base_uri": "https://localhost:8080/"
    },
    "id": "ivFBTA91-TTl",
    "outputId": "13f114cc-7423-4c8d-b52f-5ef668965be5"
   },
   "outputs": [
    {
     "name": "stdout",
     "output_type": "stream",
     "text": [
      "batch size: torch.Size([32, 1, 64, 64, 64]) torch.Size([32, 1, 64, 64, 64]) torch.Size([32, 1, 64, 64, 64])\n"
     ]
    },
    {
     "name": "stderr",
     "output_type": "stream",
     "text": [
      "/home/yudongyao/.conda/envs/pytorch1/lib/python3.9/site-packages/torch/nn/functional.py:3631: UserWarning: Default upsampling behavior when mode=trilinear is changed to align_corners=False since 0.4.0. Please specify align_corners=True if the old behavior is desired. See the documentation of nn.Upsample for details.\n",
      "  warnings.warn(\n"
     ]
    },
    {
     "name": "stdout",
     "output_type": "stream",
     "text": [
      "torch.Size([32, 1, 64, 64, 64]) torch.Size([32, 1, 64, 64, 64]) torch.Size([32, 1, 64, 64, 64]) torch.Size([32, 1, 64, 64, 64])\n",
      "torch.float32 torch.complex64 torch.float32 torch.float32\n"
     ]
    }
   ],
   "source": [
    "model = recon_model()\n",
    "for ft_images,amps,phs in train_loader:\n",
    "    print(\"batch size:\", ft_images.shape, amps.shape, phs.shape)\n",
    "    #outs = model(ft_images)\n",
    "    #print(*[o.shape for o in outs])\n",
    "    #print(*[o.dtype for o in outs])\n",
    "    y, complex_x, amp, ph, _ = model(ft_images)\n",
    "    print(y.shape, complex_x.shape, amp.shape, ph.shape)\n",
    "    print(y.dtype, complex_x.dtype, amp.dtype, ph.dtype)\n",
    "    break"
   ]
  },
  {
   "cell_type": "code",
   "execution_count": 13,
   "metadata": {},
   "outputs": [
    {
     "data": {
      "text/plain": [
       "==========================================================================================\n",
       "Layer (type:depth-idx)                   Output Shape              Param #\n",
       "==========================================================================================\n",
       "recon_model                              --                        --\n",
       "├─Sequential: 1-1                        [1, 256, 4, 4, 4]         --\n",
       "│    └─Conv3d: 2-1                       [1, 32, 64, 64, 64]       896\n",
       "│    └─LeakyReLU: 2-2                    [1, 32, 64, 64, 64]       --\n",
       "│    └─BatchNorm3d: 2-3                  [1, 32, 64, 64, 64]       64\n",
       "│    └─Conv3d: 2-4                       [1, 64, 32, 32, 32]       55,360\n",
       "│    └─LeakyReLU: 2-5                    [1, 64, 32, 32, 32]       --\n",
       "│    └─BatchNorm3d: 2-6                  [1, 64, 32, 32, 32]       128\n",
       "│    └─Conv3d: 2-7                       [1, 64, 32, 32, 32]       110,656\n",
       "│    └─LeakyReLU: 2-8                    [1, 64, 32, 32, 32]       --\n",
       "│    └─BatchNorm3d: 2-9                  [1, 64, 32, 32, 32]       128\n",
       "│    └─Conv3d: 2-10                      [1, 128, 16, 16, 16]      221,312\n",
       "│    └─LeakyReLU: 2-11                   [1, 128, 16, 16, 16]      --\n",
       "│    └─BatchNorm3d: 2-12                 [1, 128, 16, 16, 16]      256\n",
       "│    └─Conv3d: 2-13                      [1, 128, 16, 16, 16]      442,496\n",
       "│    └─LeakyReLU: 2-14                   [1, 128, 16, 16, 16]      --\n",
       "│    └─BatchNorm3d: 2-15                 [1, 128, 16, 16, 16]      256\n",
       "│    └─Conv3d: 2-16                      [1, 256, 8, 8, 8]         884,992\n",
       "│    └─LeakyReLU: 2-17                   [1, 256, 8, 8, 8]         --\n",
       "│    └─BatchNorm3d: 2-18                 [1, 256, 8, 8, 8]         512\n",
       "│    └─Conv3d: 2-19                      [1, 256, 4, 4, 4]         1,769,728\n",
       "│    └─LeakyReLU: 2-20                   [1, 256, 4, 4, 4]         --\n",
       "│    └─BatchNorm3d: 2-21                 [1, 256, 4, 4, 4]         512\n",
       "├─Sequential: 1-2                        [1, 1, 32, 32, 32]        --\n",
       "│    └─Conv3d: 2-22                      [1, 128, 4, 4, 4]         884,864\n",
       "│    └─LeakyReLU: 2-23                   [1, 128, 4, 4, 4]         --\n",
       "│    └─BatchNorm3d: 2-24                 [1, 128, 4, 4, 4]         256\n",
       "│    └─Conv3d: 2-25                      [1, 128, 4, 4, 4]         442,496\n",
       "│    └─LeakyReLU: 2-26                   [1, 128, 4, 4, 4]         --\n",
       "│    └─BatchNorm3d: 2-27                 [1, 128, 4, 4, 4]         256\n",
       "│    └─Upsample: 2-28                    [1, 128, 8, 8, 8]         --\n",
       "│    └─Conv3d: 2-29                      [1, 64, 8, 8, 8]          221,248\n",
       "│    └─LeakyReLU: 2-30                   [1, 64, 8, 8, 8]          --\n",
       "│    └─BatchNorm3d: 2-31                 [1, 64, 8, 8, 8]          128\n",
       "│    └─Conv3d: 2-32                      [1, 64, 8, 8, 8]          110,656\n",
       "│    └─LeakyReLU: 2-33                   [1, 64, 8, 8, 8]          --\n",
       "│    └─BatchNorm3d: 2-34                 [1, 64, 8, 8, 8]          128\n",
       "│    └─Upsample: 2-35                    [1, 64, 16, 16, 16]       --\n",
       "│    └─Conv3d: 2-36                      [1, 32, 16, 16, 16]       55,328\n",
       "│    └─LeakyReLU: 2-37                   [1, 32, 16, 16, 16]       --\n",
       "│    └─BatchNorm3d: 2-38                 [1, 32, 16, 16, 16]       64\n",
       "│    └─Conv3d: 2-39                      [1, 32, 16, 16, 16]       27,680\n",
       "│    └─LeakyReLU: 2-40                   [1, 32, 16, 16, 16]       --\n",
       "│    └─BatchNorm3d: 2-41                 [1, 32, 16, 16, 16]       64\n",
       "│    └─Upsample: 2-42                    [1, 32, 32, 32, 32]       --\n",
       "│    └─Conv3d: 2-43                      [1, 1, 32, 32, 32]        865\n",
       "│    └─Sigmoid: 2-44                     [1, 1, 32, 32, 32]        --\n",
       "├─Sequential: 1-3                        [1, 1, 32, 32, 32]        --\n",
       "│    └─Conv3d: 2-45                      [1, 128, 4, 4, 4]         884,864\n",
       "│    └─LeakyReLU: 2-46                   [1, 128, 4, 4, 4]         --\n",
       "│    └─BatchNorm3d: 2-47                 [1, 128, 4, 4, 4]         256\n",
       "│    └─Conv3d: 2-48                      [1, 128, 4, 4, 4]         442,496\n",
       "│    └─LeakyReLU: 2-49                   [1, 128, 4, 4, 4]         --\n",
       "│    └─BatchNorm3d: 2-50                 [1, 128, 4, 4, 4]         256\n",
       "│    └─Upsample: 2-51                    [1, 128, 8, 8, 8]         --\n",
       "│    └─Conv3d: 2-52                      [1, 64, 8, 8, 8]          221,248\n",
       "│    └─LeakyReLU: 2-53                   [1, 64, 8, 8, 8]          --\n",
       "│    └─BatchNorm3d: 2-54                 [1, 64, 8, 8, 8]          128\n",
       "│    └─Conv3d: 2-55                      [1, 64, 8, 8, 8]          110,656\n",
       "│    └─LeakyReLU: 2-56                   [1, 64, 8, 8, 8]          --\n",
       "│    └─BatchNorm3d: 2-57                 [1, 64, 8, 8, 8]          128\n",
       "│    └─Upsample: 2-58                    [1, 64, 16, 16, 16]       --\n",
       "│    └─Conv3d: 2-59                      [1, 32, 16, 16, 16]       55,328\n",
       "│    └─LeakyReLU: 2-60                   [1, 32, 16, 16, 16]       --\n",
       "│    └─BatchNorm3d: 2-61                 [1, 32, 16, 16, 16]       64\n",
       "│    └─Conv3d: 2-62                      [1, 32, 16, 16, 16]       27,680\n",
       "│    └─LeakyReLU: 2-63                   [1, 32, 16, 16, 16]       --\n",
       "│    └─BatchNorm3d: 2-64                 [1, 32, 16, 16, 16]       64\n",
       "│    └─Upsample: 2-65                    [1, 32, 32, 32, 32]       --\n",
       "│    └─Conv3d: 2-66                      [1, 1, 32, 32, 32]        865\n",
       "│    └─Tanh: 2-67                        [1, 1, 32, 32, 32]        --\n",
       "==========================================================================================\n",
       "Total params: 6,975,362\n",
       "Trainable params: 6,975,362\n",
       "Non-trainable params: 0\n",
       "Total mult-adds (G): 10.21\n",
       "==========================================================================================\n",
       "Input size (MB): 1.05\n",
       "Forward/backward pass size (MB): 232.00\n",
       "Params size (MB): 27.90\n",
       "Estimated Total Size (MB): 260.95\n",
       "=========================================================================================="
      ]
     },
     "execution_count": 13,
     "metadata": {},
     "output_type": "execute_result"
    }
   ],
   "source": [
    "summary(model, (1, 1, h*2,w*2,t*2), device='cpu')"
   ]
  },
  {
   "cell_type": "markdown",
   "metadata": {},
   "source": [
    "### Move model to appropriate device"
   ]
  },
  {
   "cell_type": "code",
   "execution_count": 14,
   "metadata": {
    "colab": {
     "base_uri": "https://localhost:8080/"
    },
    "id": "F9KCEoQyBf3f",
    "outputId": "91478b2b-cb9b-4f6c-b242-b4c016421b9f"
   },
   "outputs": [],
   "source": [
    "model = recon_model()\n",
    "\n",
    "device = torch.device(\"cuda\" if torch.cuda.is_available() else \"cpu\")\n",
    "if NGPUS > 1:\n",
    "    print(\"Let's use\", torch.cuda.device_count(), \"GPUs!\")\n",
    "    # dim = 0 [30, xxx] -> [10, ...], [10, ...], [10, ...] on 3 GPUs\n",
    "    model = nn.DataParallel(model) #Default all devices\n",
    "\n",
    "model = model.to(device)"
   ]
  },
  {
   "cell_type": "markdown",
   "metadata": {},
   "source": [
    "## Setup optimizer and cyclicLR"
   ]
  },
  {
   "cell_type": "code",
   "execution_count": 15,
   "metadata": {},
   "outputs": [
    {
     "name": "stdout",
     "output_type": "stream",
     "text": [
      "LR step size is: 8442.0 which is every 6 epochs\n"
     ]
    }
   ],
   "source": [
    "#Optimizer details\n",
    "iterations_per_epoch = np.floor((N_TRAIN*TRAIN_ratio)/BATCH_SIZE)+1 #Final batch will be less than batch size\n",
    "step_size = 6*iterations_per_epoch #Paper recommends 2-10 number of iterations, step_size is half cycle\n",
    "print(\"LR step size is:\", step_size, \"which is every %d epochs\" %(step_size/iterations_per_epoch))\n",
    "\n",
    "criterion = nn.L1Loss()\n",
    "optimizer = torch.optim.Adam(model.parameters(), lr = LR)\n",
    "scheduler = torch.optim.lr_scheduler.CyclicLR(optimizer, base_lr=LR, \n",
    "                                              max_lr=LR*5, step_size_up=step_size,\n",
    "                                              cycle_momentum=False, mode='triangular2')"
   ]
  },
  {
   "cell_type": "markdown",
   "metadata": {},
   "source": [
    "## Training and Validation Loop"
   ]
  },
  {
   "cell_type": "code",
   "execution_count": 16,
   "metadata": {},
   "outputs": [],
   "source": [
    "#Function to update saved model if validation loss is minimum\n",
    "def update_saved_model(model, path):\n",
    "    if not os.path.isdir(path):\n",
    "        os.mkdir(path)\n",
    "    for f in os.listdir(path):\n",
    "        os.remove(os.path.join(path, f))\n",
    "    if NGPUS > 1:\n",
    "        torch.save(model.module.state_dict(),path+'best_model.pth') #Have to save the underlying model else will always need 4 GPUs\n",
    "    else:\n",
    "        torch.save(model.state_dict(),path+'best_model.pth')"
   ]
  },
  {
   "cell_type": "code",
   "execution_count": 17,
   "metadata": {},
   "outputs": [],
   "source": [
    "def train(trainloader,metrics):\n",
    "    loss_ft = 0.0\n",
    "    loss_amp = 0.0\n",
    "    loss_ph = 0.0\n",
    "    \n",
    "    for i, (ft_images,amps,phs) in tqdm(enumerate(trainloader)):\n",
    "        ft_images = ft_images.to(device) #Move everything to device\n",
    "        amps = amps.to(device)\n",
    "        phs = phs.to(device)\n",
    "\n",
    "        y, _, pred_amps, pred_phs, support = model(ft_images) #Forward pass\n",
    "        \n",
    "        #Compute losses\n",
    "        loss_f = criterion(y, ft_images)\n",
    "        loss_a = criterion(pred_amps,amps) #Monitor amplitude loss\n",
    "        loss_p = criterion(pred_phs*support,phs) #Monitor phase loss but only within support (which may not be same as true amp)\n",
    "        loss = loss_f #Use only FT loss for gradients\n",
    "        #loss = loss_a + loss_p + loss_f\n",
    "\n",
    "        #Zero current grads and do backprop\n",
    "        optimizer.zero_grad() \n",
    "        loss.backward()\n",
    "        optimizer.step()\n",
    "\n",
    "        loss_ft += loss_f.detach().item()\n",
    "        loss_amp += loss_a.detach().item()\n",
    "        loss_ph += loss_p.detach().item()\n",
    "        #loss_ft = 0\n",
    "\n",
    "        #Update the LR according to the schedule -- CyclicLR updates each batch\n",
    "        scheduler.step() \n",
    "        metrics['lrs'].append(scheduler.get_last_lr())\n",
    "        \n",
    "        \n",
    "    #Divide cumulative loss by number of batches-- sli inaccurate because last batch is different size\n",
    "    metrics['losses'].append([loss_ft/i,loss_amp/i,loss_ph/i]) \n",
    "    \n",
    "\n",
    "def validate(validloader,metrics):\n",
    "    val_loss_ft = 0.0\n",
    "    val_loss_amp = 0.0\n",
    "    val_loss_ph = 0.0\n",
    "    for j, (ft_images,amps,phs) in enumerate(validloader):\n",
    "        ft_images = ft_images.to(device)\n",
    "        amps = amps.to(device)\n",
    "        phs = phs.to(device)\n",
    "        y, _, pred_amps, pred_phs, support = model(ft_images) #Forward pass\n",
    "        #pred_amps, pred_phs, support = model(ft_images) #Forward pass\n",
    "    \n",
    "        val_loss_f = criterion(y, ft_images)\n",
    "        val_loss_a = criterion(pred_amps,amps) \n",
    "        val_loss_p = criterion(pred_phs*support,phs) \n",
    "    \n",
    "        val_loss_ft += val_loss_f.detach().item()\n",
    "        val_loss_amp += val_loss_a.detach().item()\n",
    "        val_loss_ph += val_loss_p.detach().item()  \n",
    "        \n",
    "    metrics['val_losses'].append([val_loss_ft/j,val_loss_amp/j,val_loss_ph/j])\n",
    "    \n",
    "  #Update saved model if val loss is lower\n",
    "    if(val_loss_ft/j<metrics['best_val_loss']):\n",
    "        print(\"Saving improved model after Val Loss improved from %.5f to %.5f\" %(metrics['best_val_loss'],val_loss_ft/j))\n",
    "        metrics['best_val_loss'] = val_loss_ft/j\n",
    "        update_saved_model(model, MODEL_SAVE_PATH)"
   ]
  },
  {
   "cell_type": "code",
   "execution_count": null,
   "metadata": {
    "colab": {
     "base_uri": "https://localhost:8080/",
     "height": 739,
     "referenced_widgets": [
      "1e03b61d3f944de1a5a5d853260b4c66",
      "9800141673b449ed879fd0da9abc5a46",
      "1b670225b5ca4ce99984de10dcc684e3",
      "c322e7cb475040aabf23105fe9a9e56a",
      "7f2002b21bca4afdbfaa32893af58e7e",
      "0985d6d3ec7945a1adaed47f459cf230",
      "b279fbd8ee194722a43b811cbbb94619",
      "c7b7acb1bfb14a3ea2c41c17b72af12b",
      "bb4d6399905f4b1588e6d38263efcd05",
      "69cd426c9ecc4b619ef96166a5275214",
      "ba26a331fec94a299291525e743e100f",
      "39d46a489d774b2eac0237ccbd5d5931",
      "4795dbd4251043d1ae29fc0d8f37bdcb",
      "6163a0465db047f89ca7a560b34fee9b",
      "99b355c33c284a05a6870d8484b8b17d",
      "a2c07e6be50940bc9cc2a6b69438f1fc",
      "858d496c0e4e495baeb9615f075b0754",
      "5f8125b463dc4955b50934b76ab14a25",
      "25976705085f4f098f323acd1f6f7b7f",
      "b004abc8aa9f42f9b6d2de4ba0b67354",
      "7981b304c61c4910abf58f26b8778293",
      "99b5984b783f44aeaa2c43324b191245",
      "316cf25da6ea481b8d0185645882461f",
      "30585ce7fa5b4630b247a5baddaba8b5",
      "45928225523f4eaaa216dca34d79d8a9",
      "5d52bec01533444fa030e25633dd50a6",
      "19e2e13584ff4c15a9c3ab5272d9db0e",
      "53ade3afc8964580993a260823a3c1b5",
      "ee4629d6ef2d4827937d66616049d055",
      "8ec31306cb004ae98e6322259a89dbc8",
      "5d1b01e5d3a44040a36d0cea427b7342",
      "024ff1828364401589b43df4595c23db",
      "d59ccbaf90f84179a129edc0de206092",
      "25ed9dc6d04d44eba124c20543a17d7a",
      "8eef360df096408585578090576c42c3",
      "c7dadbec9cba46e098a5652ec55f3467",
      "49ac71a9ffa14ac2ac62a017ea8deacf",
      "167385656ab242a59463764f7d3f3fe3",
      "322273b38b71464fac0eb7b22920add8",
      "c2c0eed703ac4ec3b6643f3973443e88",
      "4356b24762be4de2937d390ffd20983d",
      "fadb39a3509e4832bb432dcb2f786663",
      "b3a9e5f716694a02a689643800adb9a5",
      "0d8a753c4a364fb4bccb177b195a516c",
      "303c3cb14a254afc86180d0b5f478dc9",
      "b581a174a90a442f8c94c0ffc1ed002c",
      "f0ac69d1825941aab99c9c87630c23e2",
      "bb030d945e4e4c299a8b97a0095eca02",
      "3a11a223e5244642848bfebf02995f56",
      "f9375ec84dea466b9ae15bd140550521",
      "0ee5bc4c4caa40dba53e0df76ec28363",
      "f30043d33c824519b4ad2f2a0765430d",
      "c57dadb319ec4f1f81b92dbdb77a63a0",
      "8f9effcd65ae4fa882493c58df2a2501",
      "3ad1659f25ba4f6c90edad0e12af47a5",
      "ab997c18d84740e9ab1fd2fa472a2b9d",
      "92f5433ed46544bbbb676ab4649a6518",
      "afede647ab214b92a6158f81d7af1b5b",
      "76b2922f2e1e42fd95c7ecf33e1251a7",
      "b42ab3eb8ca542639138921b1a385650",
      "32e2351b30af43c5bd283671329ac745",
      "6c893df7bf1a4fc5babe8993e52b9d46",
      "115a8e1e571f4438ba4810e79039362e",
      "805e1ea513334d5c9bbdc46dd4f3e5e8",
      "8fe4e5cc5772492fae5ab39391c3c9ac",
      "e3a16d0cdb104a4785f444c74839ed96",
      "81153f4c82e1497a987d30f838a0e122",
      "02bf282a56f7484e82b52c7c43f62adc",
      "352a5cb188544af1b369886780336c86",
      "7f649c3d7f3e45a5b4fd15df316c20d0",
      "804aff62c754412796526c9f401ae2c4",
      "d873eda2abca499d93b2eb461b2fb8f8",
      "fd7082b8c3444cf09c4055ebb9f6ffe8",
      "9b811973de5845e194bbb3a00603f4c2",
      "09d4403246274d3d86e1d95de928359b",
      "969a5ff9b36a4006b9644f1ef7e315d8",
      "5eea01557ef44a0081c8beabe4c0eda9",
      "32a2e47ffe5f4ffaba126b86c59f037a",
      "74eaee6788384b1e910f5467622cc94f",
      "adb435fa83734dfa985c525d416b3930"
     ]
    },
    "id": "TmdvH82vC-oU",
    "outputId": "09589f6e-9200-494f-b041-b074a65af4fe",
    "scrolled": true,
    "tags": []
   },
   "outputs": [
    {
     "data": {
      "application/vnd.jupyter.widget-view+json": {
       "model_id": "886670c1b1b640ac9aab67ac07fd2855",
       "version_major": 2,
       "version_minor": 0
      },
      "text/plain": [
       "  0%|          | 0/60 [00:00<?, ?it/s]"
      ]
     },
     "metadata": {},
     "output_type": "display_data"
    },
    {
     "data": {
      "application/vnd.jupyter.widget-view+json": {
       "model_id": "b06379225caf4051bd70f74b7da1e061",
       "version_major": 2,
       "version_minor": 0
      },
      "text/plain": [
       "0it [00:00, ?it/s]"
      ]
     },
     "metadata": {},
     "output_type": "display_data"
    },
    {
     "name": "stdout",
     "output_type": "stream",
     "text": [
      "Saving improved model after Val Loss improved from inf to 0.00152\n",
      "Epoch: 0 | FT  | Train Loss: 0.00168 | Val Loss: 0.00152\n",
      "Epoch: 0 | Amp | Train Loss: 0.0302 | Val Loss: 0.02510\n",
      "Epoch: 0 | Ph  | Train Loss: 0.056 | Val Loss: 0.03133\n",
      "Epoch: 0 | SW Thresh: 0.0700\n",
      "Epoch: 0 | Ending LR: 0.000167\n"
     ]
    },
    {
     "data": {
      "application/vnd.jupyter.widget-view+json": {
       "model_id": "92c57dc348434dffaf8d82fbab952e46",
       "version_major": 2,
       "version_minor": 0
      },
      "text/plain": [
       "0it [00:00, ?it/s]"
      ]
     },
     "metadata": {},
     "output_type": "display_data"
    },
    {
     "name": "stdout",
     "output_type": "stream",
     "text": [
      "Saving improved model after Val Loss improved from 0.00152 to 0.00146\n",
      "Epoch: 1 | FT  | Train Loss: 0.00144 | Val Loss: 0.00146\n",
      "Epoch: 1 | Amp | Train Loss: 0.0245 | Val Loss: 0.02397\n",
      "Epoch: 1 | Ph  | Train Loss: 0.031 | Val Loss: 0.03356\n",
      "Epoch: 1 | SW Thresh: 0.0705\n",
      "Epoch: 1 | Ending LR: 0.000233\n"
     ]
    },
    {
     "data": {
      "application/vnd.jupyter.widget-view+json": {
       "model_id": "1023c1cbe6274a8883d71807ea0c3672",
       "version_major": 2,
       "version_minor": 0
      },
      "text/plain": [
       "0it [00:00, ?it/s]"
      ]
     },
     "metadata": {},
     "output_type": "display_data"
    },
    {
     "name": "stdout",
     "output_type": "stream",
     "text": [
      "Saving improved model after Val Loss improved from 0.00146 to 0.00141\n",
      "Epoch: 2 | FT  | Train Loss: 0.00140 | Val Loss: 0.00141\n",
      "Epoch: 2 | Amp | Train Loss: 0.0240 | Val Loss: 0.02350\n",
      "Epoch: 2 | Ph  | Train Loss: 0.030 | Val Loss: 0.02988\n",
      "Epoch: 2 | SW Thresh: 0.0710\n",
      "Epoch: 2 | Ending LR: 0.000300\n"
     ]
    },
    {
     "data": {
      "application/vnd.jupyter.widget-view+json": {
       "model_id": "bc0765006f1846c1852062638bc3b46a",
       "version_major": 2,
       "version_minor": 0
      },
      "text/plain": [
       "0it [00:00, ?it/s]"
      ]
     },
     "metadata": {},
     "output_type": "display_data"
    },
    {
     "name": "stdout",
     "output_type": "stream",
     "text": [
      "Saving improved model after Val Loss improved from 0.00141 to 0.00138\n",
      "Epoch: 3 | FT  | Train Loss: 0.00136 | Val Loss: 0.00138\n",
      "Epoch: 3 | Amp | Train Loss: 0.0234 | Val Loss: 0.02284\n",
      "Epoch: 3 | Ph  | Train Loss: 0.030 | Val Loss: 0.02961\n",
      "Epoch: 3 | SW Thresh: 0.0715\n",
      "Epoch: 3 | Ending LR: 0.000367\n"
     ]
    },
    {
     "data": {
      "application/vnd.jupyter.widget-view+json": {
       "model_id": "89c188c42d26432d93c7ac53bf3efffb",
       "version_major": 2,
       "version_minor": 0
      },
      "text/plain": [
       "0it [00:00, ?it/s]"
      ]
     },
     "metadata": {},
     "output_type": "display_data"
    },
    {
     "name": "stdout",
     "output_type": "stream",
     "text": [
      "Epoch: 4 | FT  | Train Loss: 0.00134 | Val Loss: 0.00140\n",
      "Epoch: 4 | Amp | Train Loss: 0.0218 | Val Loss: 0.01787\n",
      "Epoch: 4 | Ph  | Train Loss: 0.029 | Val Loss: 0.02524\n",
      "Epoch: 4 | SW Thresh: 0.0720\n",
      "Epoch: 4 | Ending LR: 0.000433\n"
     ]
    },
    {
     "data": {
      "application/vnd.jupyter.widget-view+json": {
       "model_id": "f6b56354cf1d47b88eea3d8643c66980",
       "version_major": 2,
       "version_minor": 0
      },
      "text/plain": [
       "0it [00:00, ?it/s]"
      ]
     },
     "metadata": {},
     "output_type": "display_data"
    },
    {
     "name": "stdout",
     "output_type": "stream",
     "text": [
      "Saving improved model after Val Loss improved from 0.00138 to 0.00138\n",
      "Epoch: 5 | FT  | Train Loss: 0.00132 | Val Loss: 0.00138\n",
      "Epoch: 5 | Amp | Train Loss: 0.0172 | Val Loss: 0.01458\n",
      "Epoch: 5 | Ph  | Train Loss: 0.025 | Val Loss: 0.02163\n",
      "Epoch: 5 | SW Thresh: 0.0725\n",
      "Epoch: 5 | Ending LR: 0.000500\n"
     ]
    },
    {
     "data": {
      "application/vnd.jupyter.widget-view+json": {
       "model_id": "c0a967c25fb24dcbaaa95eacc61d352f",
       "version_major": 2,
       "version_minor": 0
      },
      "text/plain": [
       "0it [00:00, ?it/s]"
      ]
     },
     "metadata": {},
     "output_type": "display_data"
    },
    {
     "name": "stdout",
     "output_type": "stream",
     "text": [
      "Saving improved model after Val Loss improved from 0.00138 to 0.00133\n",
      "Epoch: 6 | FT  | Train Loss: 0.00129 | Val Loss: 0.00133\n",
      "Epoch: 6 | Amp | Train Loss: 0.0128 | Val Loss: 0.01192\n",
      "Epoch: 6 | Ph  | Train Loss: 0.021 | Val Loss: 0.02039\n",
      "Epoch: 6 | SW Thresh: 0.0731\n",
      "Epoch: 6 | Ending LR: 0.000433\n"
     ]
    },
    {
     "data": {
      "application/vnd.jupyter.widget-view+json": {
       "model_id": "e22cb0708efa412ba6780a73410f2466",
       "version_major": 2,
       "version_minor": 0
      },
      "text/plain": [
       "0it [00:00, ?it/s]"
      ]
     },
     "metadata": {},
     "output_type": "display_data"
    },
    {
     "name": "stdout",
     "output_type": "stream",
     "text": [
      "Saving improved model after Val Loss improved from 0.00133 to 0.00126\n",
      "Epoch: 7 | FT  | Train Loss: 0.00124 | Val Loss: 0.00126\n",
      "Epoch: 7 | Amp | Train Loss: 0.0127 | Val Loss: 0.01263\n",
      "Epoch: 7 | Ph  | Train Loss: 0.021 | Val Loss: 0.02128\n",
      "Epoch: 7 | SW Thresh: 0.0736\n",
      "Epoch: 7 | Ending LR: 0.000367\n"
     ]
    },
    {
     "data": {
      "application/vnd.jupyter.widget-view+json": {
       "model_id": "f52c6ca35eec4f909f48c02b986d36b9",
       "version_major": 2,
       "version_minor": 0
      },
      "text/plain": [
       "0it [00:00, ?it/s]"
      ]
     },
     "metadata": {},
     "output_type": "display_data"
    },
    {
     "name": "stdout",
     "output_type": "stream",
     "text": [
      "Epoch: 8 | FT  | Train Loss: 0.00120 | Val Loss: 0.00142\n",
      "Epoch: 8 | Amp | Train Loss: 0.0129 | Val Loss: 0.01390\n",
      "Epoch: 8 | Ph  | Train Loss: 0.021 | Val Loss: 0.02383\n",
      "Epoch: 8 | SW Thresh: 0.0741\n",
      "Epoch: 8 | Ending LR: 0.000300\n"
     ]
    },
    {
     "data": {
      "application/vnd.jupyter.widget-view+json": {
       "model_id": "510a896a7f724802b0f1a55e764b0d2e",
       "version_major": 2,
       "version_minor": 0
      },
      "text/plain": [
       "0it [00:00, ?it/s]"
      ]
     },
     "metadata": {},
     "output_type": "display_data"
    },
    {
     "name": "stdout",
     "output_type": "stream",
     "text": [
      "Saving improved model after Val Loss improved from 0.00126 to 0.00121\n",
      "Epoch: 9 | FT  | Train Loss: 0.00120 | Val Loss: 0.00121\n",
      "Epoch: 9 | Amp | Train Loss: 0.0131 | Val Loss: 0.01320\n",
      "Epoch: 9 | Ph  | Train Loss: 0.021 | Val Loss: 0.02088\n",
      "Epoch: 9 | SW Thresh: 0.0746\n",
      "Epoch: 9 | Ending LR: 0.000233\n"
     ]
    },
    {
     "data": {
      "application/vnd.jupyter.widget-view+json": {
       "model_id": "d1356915255649fc92f626de6f666890",
       "version_major": 2,
       "version_minor": 0
      },
      "text/plain": [
       "0it [00:00, ?it/s]"
      ]
     },
     "metadata": {},
     "output_type": "display_data"
    },
    {
     "name": "stdout",
     "output_type": "stream",
     "text": [
      "Saving improved model after Val Loss improved from 0.00121 to 0.00118\n",
      "Epoch: 10 | FT  | Train Loss: 0.00114 | Val Loss: 0.00118\n",
      "Epoch: 10 | Amp | Train Loss: 0.0129 | Val Loss: 0.01272\n",
      "Epoch: 10 | Ph  | Train Loss: 0.021 | Val Loss: 0.02053\n",
      "Epoch: 10 | SW Thresh: 0.0751\n",
      "Epoch: 10 | Ending LR: 0.000167\n"
     ]
    },
    {
     "data": {
      "application/vnd.jupyter.widget-view+json": {
       "model_id": "de05955c5d4849bd9fbf51bbb752acb7",
       "version_major": 2,
       "version_minor": 0
      },
      "text/plain": [
       "0it [00:00, ?it/s]"
      ]
     },
     "metadata": {},
     "output_type": "display_data"
    },
    {
     "name": "stdout",
     "output_type": "stream",
     "text": [
      "Saving improved model after Val Loss improved from 0.00118 to 0.00116\n",
      "Epoch: 11 | FT  | Train Loss: 0.00111 | Val Loss: 0.00116\n",
      "Epoch: 11 | Amp | Train Loss: 0.0129 | Val Loss: 0.01292\n",
      "Epoch: 11 | Ph  | Train Loss: 0.021 | Val Loss: 0.02063\n",
      "Epoch: 11 | SW Thresh: 0.0756\n",
      "Epoch: 11 | Ending LR: 0.000100\n"
     ]
    },
    {
     "data": {
      "application/vnd.jupyter.widget-view+json": {
       "model_id": "ee9b109a2bcc46c3950b3786016743cc",
       "version_major": 2,
       "version_minor": 0
      },
      "text/plain": [
       "0it [00:00, ?it/s]"
      ]
     },
     "metadata": {},
     "output_type": "display_data"
    },
    {
     "name": "stdout",
     "output_type": "stream",
     "text": [
      "Saving improved model after Val Loss improved from 0.00116 to 0.00116\n",
      "Epoch: 12 | FT  | Train Loss: 0.00109 | Val Loss: 0.00116\n",
      "Epoch: 12 | Amp | Train Loss: 0.0129 | Val Loss: 0.01320\n",
      "Epoch: 12 | Ph  | Train Loss: 0.021 | Val Loss: 0.02120\n",
      "Epoch: 12 | SW Thresh: 0.0761\n",
      "Epoch: 12 | Ending LR: 0.000133\n"
     ]
    },
    {
     "data": {
      "application/vnd.jupyter.widget-view+json": {
       "model_id": "5670d07b9d234a5ba633465e2d9c7e74",
       "version_major": 2,
       "version_minor": 0
      },
      "text/plain": [
       "0it [00:00, ?it/s]"
      ]
     },
     "metadata": {},
     "output_type": "display_data"
    },
    {
     "name": "stdout",
     "output_type": "stream",
     "text": [
      "Saving improved model after Val Loss improved from 0.00116 to 0.00115\n",
      "Epoch: 13 | FT  | Train Loss: 0.00108 | Val Loss: 0.00115\n",
      "Epoch: 13 | Amp | Train Loss: 0.0129 | Val Loss: 0.01290\n",
      "Epoch: 13 | Ph  | Train Loss: 0.021 | Val Loss: 0.02081\n",
      "Epoch: 13 | SW Thresh: 0.0766\n",
      "Epoch: 13 | Ending LR: 0.000167\n"
     ]
    },
    {
     "data": {
      "application/vnd.jupyter.widget-view+json": {
       "model_id": "f6bc8fe8c6fa42cfb1e48e7183c1fc70",
       "version_major": 2,
       "version_minor": 0
      },
      "text/plain": [
       "0it [00:00, ?it/s]"
      ]
     },
     "metadata": {},
     "output_type": "display_data"
    },
    {
     "name": "stdout",
     "output_type": "stream",
     "text": [
      "Epoch: 14 | FT  | Train Loss: 0.00108 | Val Loss: 0.00124\n",
      "Epoch: 14 | Amp | Train Loss: 0.0129 | Val Loss: 0.01253\n",
      "Epoch: 14 | Ph  | Train Loss: 0.021 | Val Loss: 0.02019\n",
      "Epoch: 14 | SW Thresh: 0.0771\n",
      "Epoch: 14 | Ending LR: 0.000200\n"
     ]
    },
    {
     "data": {
      "application/vnd.jupyter.widget-view+json": {
       "model_id": "92c20cfb2c2e428f9709f7b88bde33e3",
       "version_major": 2,
       "version_minor": 0
      },
      "text/plain": [
       "0it [00:00, ?it/s]"
      ]
     },
     "metadata": {},
     "output_type": "display_data"
    },
    {
     "name": "stdout",
     "output_type": "stream",
     "text": [
      "Saving improved model after Val Loss improved from 0.00115 to 0.00115\n",
      "Epoch: 15 | FT  | Train Loss: 0.00107 | Val Loss: 0.00115\n",
      "Epoch: 15 | Amp | Train Loss: 0.0129 | Val Loss: 0.01262\n",
      "Epoch: 15 | Ph  | Train Loss: 0.021 | Val Loss: 0.02011\n",
      "Epoch: 15 | SW Thresh: 0.0776\n",
      "Epoch: 15 | Ending LR: 0.000233\n"
     ]
    },
    {
     "data": {
      "application/vnd.jupyter.widget-view+json": {
       "model_id": "f6fcca7e20314749941ae3b8ac791cba",
       "version_major": 2,
       "version_minor": 0
      },
      "text/plain": [
       "0it [00:00, ?it/s]"
      ]
     },
     "metadata": {},
     "output_type": "display_data"
    },
    {
     "name": "stdout",
     "output_type": "stream",
     "text": [
      "Epoch: 16 | FT  | Train Loss: 0.00107 | Val Loss: 0.00119\n",
      "Epoch: 16 | Amp | Train Loss: 0.0129 | Val Loss: 0.01293\n",
      "Epoch: 16 | Ph  | Train Loss: 0.021 | Val Loss: 0.02021\n",
      "Epoch: 16 | SW Thresh: 0.0781\n",
      "Epoch: 16 | Ending LR: 0.000267\n"
     ]
    },
    {
     "data": {
      "application/vnd.jupyter.widget-view+json": {
       "model_id": "66fc166b20884f4281f20f2a7dc5e34a",
       "version_major": 2,
       "version_minor": 0
      },
      "text/plain": [
       "0it [00:00, ?it/s]"
      ]
     },
     "metadata": {},
     "output_type": "display_data"
    },
    {
     "name": "stdout",
     "output_type": "stream",
     "text": [
      "Epoch: 17 | FT  | Train Loss: 0.00106 | Val Loss: 0.00115\n",
      "Epoch: 17 | Amp | Train Loss: 0.0129 | Val Loss: 0.01306\n",
      "Epoch: 17 | Ph  | Train Loss: 0.021 | Val Loss: 0.02096\n",
      "Epoch: 17 | SW Thresh: 0.0786\n",
      "Epoch: 17 | Ending LR: 0.000300\n"
     ]
    },
    {
     "data": {
      "application/vnd.jupyter.widget-view+json": {
       "model_id": "70b1fe12ae0e4539bce9b3e0c869edf2",
       "version_major": 2,
       "version_minor": 0
      },
      "text/plain": [
       "0it [00:00, ?it/s]"
      ]
     },
     "metadata": {},
     "output_type": "display_data"
    },
    {
     "name": "stdout",
     "output_type": "stream",
     "text": [
      "Epoch: 18 | FT  | Train Loss: 0.00105 | Val Loss: 0.00121\n",
      "Epoch: 18 | Amp | Train Loss: 0.0129 | Val Loss: 0.01305\n",
      "Epoch: 18 | Ph  | Train Loss: 0.021 | Val Loss: 0.02089\n",
      "Epoch: 18 | SW Thresh: 0.0792\n",
      "Epoch: 18 | Ending LR: 0.000267\n"
     ]
    },
    {
     "data": {
      "application/vnd.jupyter.widget-view+json": {
       "model_id": "9341997642cc4478b485ddb8cdf9b025",
       "version_major": 2,
       "version_minor": 0
      },
      "text/plain": [
       "0it [00:00, ?it/s]"
      ]
     },
     "metadata": {},
     "output_type": "display_data"
    },
    {
     "name": "stdout",
     "output_type": "stream",
     "text": [
      "Saving improved model after Val Loss improved from 0.00115 to 0.00114\n",
      "Epoch: 19 | FT  | Train Loss: 0.00103 | Val Loss: 0.00114\n",
      "Epoch: 19 | Amp | Train Loss: 0.0129 | Val Loss: 0.01299\n",
      "Epoch: 19 | Ph  | Train Loss: 0.021 | Val Loss: 0.02101\n",
      "Epoch: 19 | SW Thresh: 0.0797\n",
      "Epoch: 19 | Ending LR: 0.000233\n"
     ]
    },
    {
     "data": {
      "application/vnd.jupyter.widget-view+json": {
       "model_id": "23b9b29742f34994ad8c89776ad3e76e",
       "version_major": 2,
       "version_minor": 0
      },
      "text/plain": [
       "0it [00:00, ?it/s]"
      ]
     },
     "metadata": {},
     "output_type": "display_data"
    },
    {
     "name": "stdout",
     "output_type": "stream",
     "text": [
      "Saving improved model after Val Loss improved from 0.00114 to 0.00111\n",
      "Epoch: 20 | FT  | Train Loss: 0.00101 | Val Loss: 0.00111\n",
      "Epoch: 20 | Amp | Train Loss: 0.0128 | Val Loss: 0.01325\n",
      "Epoch: 20 | Ph  | Train Loss: 0.020 | Val Loss: 0.02105\n",
      "Epoch: 20 | SW Thresh: 0.0802\n",
      "Epoch: 20 | Ending LR: 0.000200\n"
     ]
    },
    {
     "data": {
      "application/vnd.jupyter.widget-view+json": {
       "model_id": "157bae8e88d14e36bdf8fde0060ca8d5",
       "version_major": 2,
       "version_minor": 0
      },
      "text/plain": [
       "0it [00:00, ?it/s]"
      ]
     },
     "metadata": {},
     "output_type": "display_data"
    },
    {
     "name": "stdout",
     "output_type": "stream",
     "text": [
      "Saving improved model after Val Loss improved from 0.00111 to 0.00108\n",
      "Epoch: 21 | FT  | Train Loss: 0.00099 | Val Loss: 0.00108\n",
      "Epoch: 21 | Amp | Train Loss: 0.0128 | Val Loss: 0.01299\n",
      "Epoch: 21 | Ph  | Train Loss: 0.020 | Val Loss: 0.02058\n",
      "Epoch: 21 | SW Thresh: 0.0807\n",
      "Epoch: 21 | Ending LR: 0.000167\n"
     ]
    },
    {
     "data": {
      "application/vnd.jupyter.widget-view+json": {
       "model_id": "d84336509e6d45e1aa636ccb1c7f63de",
       "version_major": 2,
       "version_minor": 0
      },
      "text/plain": [
       "0it [00:00, ?it/s]"
      ]
     },
     "metadata": {},
     "output_type": "display_data"
    },
    {
     "name": "stdout",
     "output_type": "stream",
     "text": [
      "Epoch: 22 | FT  | Train Loss: 0.00097 | Val Loss: 0.00108\n",
      "Epoch: 22 | Amp | Train Loss: 0.0128 | Val Loss: 0.01303\n",
      "Epoch: 22 | Ph  | Train Loss: 0.020 | Val Loss: 0.02050\n",
      "Epoch: 22 | SW Thresh: 0.0812\n",
      "Epoch: 22 | Ending LR: 0.000133\n"
     ]
    },
    {
     "data": {
      "application/vnd.jupyter.widget-view+json": {
       "model_id": "eb55809eb0534de2a8bfb52a3994c577",
       "version_major": 2,
       "version_minor": 0
      },
      "text/plain": [
       "0it [00:00, ?it/s]"
      ]
     },
     "metadata": {},
     "output_type": "display_data"
    },
    {
     "name": "stdout",
     "output_type": "stream",
     "text": [
      "Saving improved model after Val Loss improved from 0.00108 to 0.00106\n",
      "Epoch: 23 | FT  | Train Loss: 0.00096 | Val Loss: 0.00106\n",
      "Epoch: 23 | Amp | Train Loss: 0.0128 | Val Loss: 0.01279\n",
      "Epoch: 23 | Ph  | Train Loss: 0.020 | Val Loss: 0.02029\n",
      "Epoch: 23 | SW Thresh: 0.0817\n",
      "Epoch: 23 | Ending LR: 0.000100\n"
     ]
    },
    {
     "data": {
      "application/vnd.jupyter.widget-view+json": {
       "model_id": "301da1a39f8046b3a82b8616923a26c2",
       "version_major": 2,
       "version_minor": 0
      },
      "text/plain": [
       "0it [00:00, ?it/s]"
      ]
     },
     "metadata": {},
     "output_type": "display_data"
    },
    {
     "name": "stdout",
     "output_type": "stream",
     "text": [
      "Saving improved model after Val Loss improved from 0.00106 to 0.00106\n",
      "Epoch: 24 | FT  | Train Loss: 0.00095 | Val Loss: 0.00106\n",
      "Epoch: 24 | Amp | Train Loss: 0.0128 | Val Loss: 0.01284\n",
      "Epoch: 24 | Ph  | Train Loss: 0.020 | Val Loss: 0.02051\n",
      "Epoch: 24 | SW Thresh: 0.0822\n",
      "Epoch: 24 | Ending LR: 0.000117\n"
     ]
    },
    {
     "data": {
      "application/vnd.jupyter.widget-view+json": {
       "model_id": "797f13e681604c9e89b6c3bfbf9335fe",
       "version_major": 2,
       "version_minor": 0
      },
      "text/plain": [
       "0it [00:00, ?it/s]"
      ]
     },
     "metadata": {},
     "output_type": "display_data"
    },
    {
     "name": "stdout",
     "output_type": "stream",
     "text": [
      "Epoch: 25 | FT  | Train Loss: 0.00095 | Val Loss: 0.00107\n",
      "Epoch: 25 | Amp | Train Loss: 0.0128 | Val Loss: 0.01284\n",
      "Epoch: 25 | Ph  | Train Loss: 0.020 | Val Loss: 0.02033\n",
      "Epoch: 25 | SW Thresh: 0.0827\n",
      "Epoch: 25 | Ending LR: 0.000133\n"
     ]
    },
    {
     "data": {
      "application/vnd.jupyter.widget-view+json": {
       "model_id": "737f01a72b2d4726ab9656940d21f285",
       "version_major": 2,
       "version_minor": 0
      },
      "text/plain": [
       "0it [00:00, ?it/s]"
      ]
     },
     "metadata": {},
     "output_type": "display_data"
    },
    {
     "name": "stdout",
     "output_type": "stream",
     "text": [
      "Epoch: 26 | FT  | Train Loss: 0.00094 | Val Loss: 0.00106\n",
      "Epoch: 26 | Amp | Train Loss: 0.0128 | Val Loss: 0.01272\n",
      "Epoch: 26 | Ph  | Train Loss: 0.020 | Val Loss: 0.02033\n",
      "Epoch: 26 | SW Thresh: 0.0832\n",
      "Epoch: 26 | Ending LR: 0.000150\n"
     ]
    },
    {
     "data": {
      "application/vnd.jupyter.widget-view+json": {
       "model_id": "de1ffbd015f8436cba6b132f8b0d72ef",
       "version_major": 2,
       "version_minor": 0
      },
      "text/plain": [
       "0it [00:00, ?it/s]"
      ]
     },
     "metadata": {},
     "output_type": "display_data"
    },
    {
     "name": "stdout",
     "output_type": "stream",
     "text": [
      "Epoch: 27 | FT  | Train Loss: 0.00094 | Val Loss: 0.00106\n",
      "Epoch: 27 | Amp | Train Loss: 0.0128 | Val Loss: 0.01291\n",
      "Epoch: 27 | Ph  | Train Loss: 0.020 | Val Loss: 0.02053\n",
      "Epoch: 27 | SW Thresh: 0.0837\n",
      "Epoch: 27 | Ending LR: 0.000167\n"
     ]
    },
    {
     "data": {
      "application/vnd.jupyter.widget-view+json": {
       "model_id": "d3bc784bcfb54287a059164ceb4622aa",
       "version_major": 2,
       "version_minor": 0
      },
      "text/plain": [
       "0it [00:00, ?it/s]"
      ]
     },
     "metadata": {},
     "output_type": "display_data"
    },
    {
     "name": "stdout",
     "output_type": "stream",
     "text": [
      "Epoch: 28 | FT  | Train Loss: 0.00094 | Val Loss: 0.00106\n",
      "Epoch: 28 | Amp | Train Loss: 0.0128 | Val Loss: 0.01285\n",
      "Epoch: 28 | Ph  | Train Loss: 0.020 | Val Loss: 0.02054\n",
      "Epoch: 28 | SW Thresh: 0.0842\n",
      "Epoch: 28 | Ending LR: 0.000183\n"
     ]
    },
    {
     "data": {
      "application/vnd.jupyter.widget-view+json": {
       "model_id": "fa2b443661fa4fea82a0f9fc92d09459",
       "version_major": 2,
       "version_minor": 0
      },
      "text/plain": [
       "0it [00:00, ?it/s]"
      ]
     },
     "metadata": {},
     "output_type": "display_data"
    },
    {
     "name": "stdout",
     "output_type": "stream",
     "text": [
      "Epoch: 29 | FT  | Train Loss: 0.00095 | Val Loss: 0.00111\n",
      "Epoch: 29 | Amp | Train Loss: 0.0128 | Val Loss: 0.01258\n",
      "Epoch: 29 | Ph  | Train Loss: 0.020 | Val Loss: 0.02013\n",
      "Epoch: 29 | SW Thresh: 0.0847\n",
      "Epoch: 29 | Ending LR: 0.000200\n"
     ]
    },
    {
     "data": {
      "application/vnd.jupyter.widget-view+json": {
       "model_id": "b8028383e7114a07bc301a5ecab05e61",
       "version_major": 2,
       "version_minor": 0
      },
      "text/plain": [
       "0it [00:00, ?it/s]"
      ]
     },
     "metadata": {},
     "output_type": "display_data"
    },
    {
     "name": "stdout",
     "output_type": "stream",
     "text": [
      "Epoch: 30 | FT  | Train Loss: 0.00094 | Val Loss: 0.00107\n",
      "Epoch: 30 | Amp | Train Loss: 0.0127 | Val Loss: 0.01277\n",
      "Epoch: 30 | Ph  | Train Loss: 0.020 | Val Loss: 0.02044\n",
      "Epoch: 30 | SW Thresh: 0.0853\n",
      "Epoch: 30 | Ending LR: 0.000183\n"
     ]
    },
    {
     "data": {
      "application/vnd.jupyter.widget-view+json": {
       "model_id": "42f669d6d50e41ef9c906b531ef20719",
       "version_major": 2,
       "version_minor": 0
      },
      "text/plain": [
       "0it [00:00, ?it/s]"
      ]
     },
     "metadata": {},
     "output_type": "display_data"
    },
    {
     "name": "stdout",
     "output_type": "stream",
     "text": [
      "Saving improved model after Val Loss improved from 0.00106 to 0.00105\n",
      "Epoch: 31 | FT  | Train Loss: 0.00093 | Val Loss: 0.00105\n",
      "Epoch: 31 | Amp | Train Loss: 0.0127 | Val Loss: 0.01277\n",
      "Epoch: 31 | Ph  | Train Loss: 0.020 | Val Loss: 0.02023\n",
      "Epoch: 31 | SW Thresh: 0.0858\n",
      "Epoch: 31 | Ending LR: 0.000167\n"
     ]
    },
    {
     "data": {
      "application/vnd.jupyter.widget-view+json": {
       "model_id": "c26d8bd99a8e49d4aa381719d59ed43e",
       "version_major": 2,
       "version_minor": 0
      },
      "text/plain": [
       "0it [00:00, ?it/s]"
      ]
     },
     "metadata": {},
     "output_type": "display_data"
    },
    {
     "name": "stdout",
     "output_type": "stream",
     "text": [
      "Saving improved model after Val Loss improved from 0.00105 to 0.00105\n",
      "Epoch: 32 | FT  | Train Loss: 0.00092 | Val Loss: 0.00105\n",
      "Epoch: 32 | Amp | Train Loss: 0.0127 | Val Loss: 0.01296\n",
      "Epoch: 32 | Ph  | Train Loss: 0.020 | Val Loss: 0.02055\n",
      "Epoch: 32 | SW Thresh: 0.0863\n",
      "Epoch: 32 | Ending LR: 0.000150\n"
     ]
    },
    {
     "data": {
      "application/vnd.jupyter.widget-view+json": {
       "model_id": "9a5936b12403406a851bef0968af2699",
       "version_major": 2,
       "version_minor": 0
      },
      "text/plain": [
       "0it [00:00, ?it/s]"
      ]
     },
     "metadata": {},
     "output_type": "display_data"
    },
    {
     "name": "stdout",
     "output_type": "stream",
     "text": [
      "Saving improved model after Val Loss improved from 0.00105 to 0.00104\n",
      "Epoch: 33 | FT  | Train Loss: 0.00091 | Val Loss: 0.00104\n",
      "Epoch: 33 | Amp | Train Loss: 0.0127 | Val Loss: 0.01274\n",
      "Epoch: 33 | Ph  | Train Loss: 0.020 | Val Loss: 0.02026\n",
      "Epoch: 33 | SW Thresh: 0.0868\n",
      "Epoch: 33 | Ending LR: 0.000133\n"
     ]
    },
    {
     "data": {
      "application/vnd.jupyter.widget-view+json": {
       "model_id": "76ff3ec58b3847099adf1e4017c21019",
       "version_major": 2,
       "version_minor": 0
      },
      "text/plain": [
       "0it [00:00, ?it/s]"
      ]
     },
     "metadata": {},
     "output_type": "display_data"
    },
    {
     "name": "stdout",
     "output_type": "stream",
     "text": [
      "Saving improved model after Val Loss improved from 0.00104 to 0.00103\n",
      "Epoch: 34 | FT  | Train Loss: 0.00090 | Val Loss: 0.00103\n",
      "Epoch: 34 | Amp | Train Loss: 0.0127 | Val Loss: 0.01262\n",
      "Epoch: 34 | Ph  | Train Loss: 0.020 | Val Loss: 0.02019\n",
      "Epoch: 34 | SW Thresh: 0.0873\n",
      "Epoch: 34 | Ending LR: 0.000117\n"
     ]
    },
    {
     "data": {
      "application/vnd.jupyter.widget-view+json": {
       "model_id": "2e7b11ce73a142e283dc76064f52a075",
       "version_major": 2,
       "version_minor": 0
      },
      "text/plain": [
       "0it [00:00, ?it/s]"
      ]
     },
     "metadata": {},
     "output_type": "display_data"
    },
    {
     "name": "stdout",
     "output_type": "stream",
     "text": [
      "Saving improved model after Val Loss improved from 0.00103 to 0.00103\n",
      "Epoch: 35 | FT  | Train Loss: 0.00090 | Val Loss: 0.00103\n",
      "Epoch: 35 | Amp | Train Loss: 0.0127 | Val Loss: 0.01264\n",
      "Epoch: 35 | Ph  | Train Loss: 0.020 | Val Loss: 0.02005\n",
      "Epoch: 35 | SW Thresh: 0.0878\n",
      "Epoch: 35 | Ending LR: 0.000100\n"
     ]
    },
    {
     "data": {
      "application/vnd.jupyter.widget-view+json": {
       "model_id": "15c7742f34124533b7cbefcfb4bd1ae3",
       "version_major": 2,
       "version_minor": 0
      },
      "text/plain": [
       "0it [00:00, ?it/s]"
      ]
     },
     "metadata": {},
     "output_type": "display_data"
    },
    {
     "name": "stdout",
     "output_type": "stream",
     "text": [
      "Saving improved model after Val Loss improved from 0.00103 to 0.00103\n",
      "Epoch: 36 | FT  | Train Loss: 0.00089 | Val Loss: 0.00103\n",
      "Epoch: 36 | Amp | Train Loss: 0.0127 | Val Loss: 0.01265\n",
      "Epoch: 36 | Ph  | Train Loss: 0.020 | Val Loss: 0.02018\n",
      "Epoch: 36 | SW Thresh: 0.0883\n",
      "Epoch: 36 | Ending LR: 0.000108\n"
     ]
    },
    {
     "data": {
      "application/vnd.jupyter.widget-view+json": {
       "model_id": "53efef29edef4d8f9cdd38e22788fa55",
       "version_major": 2,
       "version_minor": 0
      },
      "text/plain": [
       "0it [00:00, ?it/s]"
      ]
     },
     "metadata": {},
     "output_type": "display_data"
    },
    {
     "name": "stdout",
     "output_type": "stream",
     "text": [
      "Epoch: 37 | FT  | Train Loss: 0.00089 | Val Loss: 0.00104\n",
      "Epoch: 37 | Amp | Train Loss: 0.0127 | Val Loss: 0.01277\n",
      "Epoch: 37 | Ph  | Train Loss: 0.020 | Val Loss: 0.02023\n",
      "Epoch: 37 | SW Thresh: 0.0888\n",
      "Epoch: 37 | Ending LR: 0.000117\n"
     ]
    },
    {
     "data": {
      "application/vnd.jupyter.widget-view+json": {
       "model_id": "9f81051d4a40440a9bb5be1e8ca22004",
       "version_major": 2,
       "version_minor": 0
      },
      "text/plain": [
       "0it [00:00, ?it/s]"
      ]
     },
     "metadata": {},
     "output_type": "display_data"
    },
    {
     "name": "stdout",
     "output_type": "stream",
     "text": [
      "Epoch: 38 | FT  | Train Loss: 0.00089 | Val Loss: 0.00103\n",
      "Epoch: 38 | Amp | Train Loss: 0.0127 | Val Loss: 0.01268\n",
      "Epoch: 38 | Ph  | Train Loss: 0.020 | Val Loss: 0.02013\n",
      "Epoch: 38 | SW Thresh: 0.0893\n",
      "Epoch: 38 | Ending LR: 0.000125\n"
     ]
    },
    {
     "data": {
      "application/vnd.jupyter.widget-view+json": {
       "model_id": "ea92579492ac4c48996e0b40639053a4",
       "version_major": 2,
       "version_minor": 0
      },
      "text/plain": [
       "0it [00:00, ?it/s]"
      ]
     },
     "metadata": {},
     "output_type": "display_data"
    },
    {
     "name": "stdout",
     "output_type": "stream",
     "text": [
      "Epoch: 39 | FT  | Train Loss: 0.00089 | Val Loss: 0.00103\n",
      "Epoch: 39 | Amp | Train Loss: 0.0127 | Val Loss: 0.01265\n",
      "Epoch: 39 | Ph  | Train Loss: 0.020 | Val Loss: 0.02016\n",
      "Epoch: 39 | SW Thresh: 0.0898\n",
      "Epoch: 39 | Ending LR: 0.000133\n"
     ]
    },
    {
     "data": {
      "application/vnd.jupyter.widget-view+json": {
       "model_id": "e8c2eff1faa04da6b21959c923bcd692",
       "version_major": 2,
       "version_minor": 0
      },
      "text/plain": [
       "0it [00:00, ?it/s]"
      ]
     },
     "metadata": {},
     "output_type": "display_data"
    },
    {
     "name": "stdout",
     "output_type": "stream",
     "text": [
      "Epoch: 40 | FT  | Train Loss: 0.00089 | Val Loss: 0.00104\n",
      "Epoch: 40 | Amp | Train Loss: 0.0127 | Val Loss: 0.01257\n",
      "Epoch: 40 | Ph  | Train Loss: 0.020 | Val Loss: 0.02021\n",
      "Epoch: 40 | SW Thresh: 0.0903\n",
      "Epoch: 40 | Ending LR: 0.000142\n"
     ]
    },
    {
     "data": {
      "application/vnd.jupyter.widget-view+json": {
       "model_id": "2b8eb99e3b494de8bfc0caa5c80dcf13",
       "version_major": 2,
       "version_minor": 0
      },
      "text/plain": [
       "0it [00:00, ?it/s]"
      ]
     },
     "metadata": {},
     "output_type": "display_data"
    },
    {
     "name": "stdout",
     "output_type": "stream",
     "text": [
      "Epoch: 41 | FT  | Train Loss: 0.00089 | Val Loss: 0.00104\n",
      "Epoch: 41 | Amp | Train Loss: 0.0127 | Val Loss: 0.01264\n",
      "Epoch: 41 | Ph  | Train Loss: 0.020 | Val Loss: 0.02001\n",
      "Epoch: 41 | SW Thresh: 0.0908\n",
      "Epoch: 41 | Ending LR: 0.000150\n"
     ]
    },
    {
     "data": {
      "application/vnd.jupyter.widget-view+json": {
       "model_id": "e9eccda3e8c942999ecf5b5861f011b1",
       "version_major": 2,
       "version_minor": 0
      },
      "text/plain": [
       "0it [00:00, ?it/s]"
      ]
     },
     "metadata": {},
     "output_type": "display_data"
    },
    {
     "name": "stdout",
     "output_type": "stream",
     "text": [
      "Epoch: 42 | FT  | Train Loss: 0.00089 | Val Loss: 0.00106\n",
      "Epoch: 42 | Amp | Train Loss: 0.0127 | Val Loss: 0.01274\n",
      "Epoch: 42 | Ph  | Train Loss: 0.020 | Val Loss: 0.02069\n",
      "Epoch: 42 | SW Thresh: 0.0914\n",
      "Epoch: 42 | Ending LR: 0.000142\n"
     ]
    },
    {
     "data": {
      "application/vnd.jupyter.widget-view+json": {
       "model_id": "66db4439366a41c4ab6f1315e686de1d",
       "version_major": 2,
       "version_minor": 0
      },
      "text/plain": [
       "0it [00:00, ?it/s]"
      ]
     },
     "metadata": {},
     "output_type": "display_data"
    },
    {
     "name": "stdout",
     "output_type": "stream",
     "text": [
      "Epoch: 43 | FT  | Train Loss: 0.00088 | Val Loss: 0.00105\n",
      "Epoch: 43 | Amp | Train Loss: 0.0127 | Val Loss: 0.01271\n",
      "Epoch: 43 | Ph  | Train Loss: 0.020 | Val Loss: 0.02036\n",
      "Epoch: 43 | SW Thresh: 0.0919\n",
      "Epoch: 43 | Ending LR: 0.000133\n"
     ]
    },
    {
     "data": {
      "application/vnd.jupyter.widget-view+json": {
       "model_id": "40405905a4e14811b52a586c4c6f57fe",
       "version_major": 2,
       "version_minor": 0
      },
      "text/plain": [
       "0it [00:00, ?it/s]"
      ]
     },
     "metadata": {},
     "output_type": "display_data"
    },
    {
     "name": "stdout",
     "output_type": "stream",
     "text": [
      "Saving improved model after Val Loss improved from 0.00103 to 0.00103\n",
      "Epoch: 44 | FT  | Train Loss: 0.00088 | Val Loss: 0.00103\n",
      "Epoch: 44 | Amp | Train Loss: 0.0127 | Val Loss: 0.01257\n",
      "Epoch: 44 | Ph  | Train Loss: 0.020 | Val Loss: 0.02005\n",
      "Epoch: 44 | SW Thresh: 0.0924\n",
      "Epoch: 44 | Ending LR: 0.000125\n"
     ]
    },
    {
     "data": {
      "application/vnd.jupyter.widget-view+json": {
       "model_id": "fd5dcc8065de4d6990ce310a3fa149c2",
       "version_major": 2,
       "version_minor": 0
      },
      "text/plain": [
       "0it [00:00, ?it/s]"
      ]
     },
     "metadata": {},
     "output_type": "display_data"
    },
    {
     "name": "stdout",
     "output_type": "stream",
     "text": [
      "Epoch: 45 | FT  | Train Loss: 0.00088 | Val Loss: 0.00104\n",
      "Epoch: 45 | Amp | Train Loss: 0.0127 | Val Loss: 0.01269\n",
      "Epoch: 45 | Ph  | Train Loss: 0.020 | Val Loss: 0.02020\n",
      "Epoch: 45 | SW Thresh: 0.0929\n",
      "Epoch: 45 | Ending LR: 0.000117\n"
     ]
    },
    {
     "data": {
      "application/vnd.jupyter.widget-view+json": {
       "model_id": "ad5a8bccfd4a41c7b122963c881d6000",
       "version_major": 2,
       "version_minor": 0
      },
      "text/plain": [
       "0it [00:00, ?it/s]"
      ]
     },
     "metadata": {},
     "output_type": "display_data"
    },
    {
     "name": "stdout",
     "output_type": "stream",
     "text": [
      "Saving improved model after Val Loss improved from 0.00103 to 0.00103\n",
      "Epoch: 46 | FT  | Train Loss: 0.00087 | Val Loss: 0.00103\n",
      "Epoch: 46 | Amp | Train Loss: 0.0127 | Val Loss: 0.01256\n",
      "Epoch: 46 | Ph  | Train Loss: 0.020 | Val Loss: 0.02004\n",
      "Epoch: 46 | SW Thresh: 0.0934\n",
      "Epoch: 46 | Ending LR: 0.000108\n"
     ]
    },
    {
     "data": {
      "application/vnd.jupyter.widget-view+json": {
       "model_id": "a7e153482b2c43dd944641a46b72e9b5",
       "version_major": 2,
       "version_minor": 0
      },
      "text/plain": [
       "0it [00:00, ?it/s]"
      ]
     },
     "metadata": {},
     "output_type": "display_data"
    },
    {
     "name": "stdout",
     "output_type": "stream",
     "text": [
      "Saving improved model after Val Loss improved from 0.00103 to 0.00103\n",
      "Epoch: 47 | FT  | Train Loss: 0.00087 | Val Loss: 0.00103\n",
      "Epoch: 47 | Amp | Train Loss: 0.0127 | Val Loss: 0.01265\n",
      "Epoch: 47 | Ph  | Train Loss: 0.020 | Val Loss: 0.02013\n",
      "Epoch: 47 | SW Thresh: 0.0939\n",
      "Epoch: 47 | Ending LR: 0.000100\n"
     ]
    },
    {
     "data": {
      "application/vnd.jupyter.widget-view+json": {
       "model_id": "1a4cb95fa285471b84b14870ea63e98e",
       "version_major": 2,
       "version_minor": 0
      },
      "text/plain": [
       "0it [00:00, ?it/s]"
      ]
     },
     "metadata": {},
     "output_type": "display_data"
    },
    {
     "name": "stdout",
     "output_type": "stream",
     "text": [
      "Epoch: 48 | FT  | Train Loss: 0.00086 | Val Loss: 0.00103\n",
      "Epoch: 48 | Amp | Train Loss: 0.0127 | Val Loss: 0.01252\n",
      "Epoch: 48 | Ph  | Train Loss: 0.020 | Val Loss: 0.02009\n",
      "Epoch: 48 | SW Thresh: 0.0944\n",
      "Epoch: 48 | Ending LR: 0.000104\n"
     ]
    },
    {
     "data": {
      "application/vnd.jupyter.widget-view+json": {
       "model_id": "6a7ea3820d6843ff98225e9175cd3a78",
       "version_major": 2,
       "version_minor": 0
      },
      "text/plain": [
       "0it [00:00, ?it/s]"
      ]
     },
     "metadata": {},
     "output_type": "display_data"
    },
    {
     "name": "stdout",
     "output_type": "stream",
     "text": [
      "Saving improved model after Val Loss improved from 0.00103 to 0.00102\n",
      "Epoch: 49 | FT  | Train Loss: 0.00086 | Val Loss: 0.00102\n",
      "Epoch: 49 | Amp | Train Loss: 0.0127 | Val Loss: 0.01277\n",
      "Epoch: 49 | Ph  | Train Loss: 0.020 | Val Loss: 0.02024\n",
      "Epoch: 49 | SW Thresh: 0.0949\n",
      "Epoch: 49 | Ending LR: 0.000108\n"
     ]
    },
    {
     "data": {
      "application/vnd.jupyter.widget-view+json": {
       "model_id": "b009f3898877435baa2d40984166ef59",
       "version_major": 2,
       "version_minor": 0
      },
      "text/plain": [
       "0it [00:00, ?it/s]"
      ]
     },
     "metadata": {},
     "output_type": "display_data"
    },
    {
     "name": "stdout",
     "output_type": "stream",
     "text": [
      "Epoch: 50 | FT  | Train Loss: 0.00086 | Val Loss: 0.00103\n",
      "Epoch: 50 | Amp | Train Loss: 0.0126 | Val Loss: 0.01245\n",
      "Epoch: 50 | Ph  | Train Loss: 0.020 | Val Loss: 0.01992\n",
      "Epoch: 50 | SW Thresh: 0.0954\n",
      "Epoch: 50 | Ending LR: 0.000113\n"
     ]
    },
    {
     "data": {
      "application/vnd.jupyter.widget-view+json": {
       "model_id": "0c6c10c82d8248fd98600e80d3a35ffd",
       "version_major": 2,
       "version_minor": 0
      },
      "text/plain": [
       "0it [00:00, ?it/s]"
      ]
     },
     "metadata": {},
     "output_type": "display_data"
    },
    {
     "name": "stdout",
     "output_type": "stream",
     "text": [
      "Epoch: 51 | FT  | Train Loss: 0.00086 | Val Loss: 0.00102\n",
      "Epoch: 51 | Amp | Train Loss: 0.0126 | Val Loss: 0.01260\n",
      "Epoch: 51 | Ph  | Train Loss: 0.020 | Val Loss: 0.02017\n",
      "Epoch: 51 | SW Thresh: 0.0959\n",
      "Epoch: 51 | Ending LR: 0.000117\n"
     ]
    },
    {
     "data": {
      "application/vnd.jupyter.widget-view+json": {
       "model_id": "8f3aef7c042b469f9f0804eaecc73e7e",
       "version_major": 2,
       "version_minor": 0
      },
      "text/plain": [
       "0it [00:00, ?it/s]"
      ]
     },
     "metadata": {},
     "output_type": "display_data"
    },
    {
     "name": "stdout",
     "output_type": "stream",
     "text": [
      "Epoch: 52 | FT  | Train Loss: 0.00086 | Val Loss: 0.00103\n",
      "Epoch: 52 | Amp | Train Loss: 0.0126 | Val Loss: 0.01267\n",
      "Epoch: 52 | Ph  | Train Loss: 0.020 | Val Loss: 0.02010\n",
      "Epoch: 52 | SW Thresh: 0.0964\n",
      "Epoch: 52 | Ending LR: 0.000121\n"
     ]
    },
    {
     "data": {
      "application/vnd.jupyter.widget-view+json": {
       "model_id": "7b834d0e1f0e48ddb096b5c587b091ae",
       "version_major": 2,
       "version_minor": 0
      },
      "text/plain": [
       "0it [00:00, ?it/s]"
      ]
     },
     "metadata": {},
     "output_type": "display_data"
    },
    {
     "name": "stdout",
     "output_type": "stream",
     "text": [
      "Epoch: 53 | FT  | Train Loss: 0.00086 | Val Loss: 0.00103\n",
      "Epoch: 53 | Amp | Train Loss: 0.0126 | Val Loss: 0.01280\n",
      "Epoch: 53 | Ph  | Train Loss: 0.020 | Val Loss: 0.02033\n",
      "Epoch: 53 | SW Thresh: 0.0969\n",
      "Epoch: 53 | Ending LR: 0.000125\n"
     ]
    },
    {
     "data": {
      "application/vnd.jupyter.widget-view+json": {
       "model_id": "83ff7694386640dca76a0226d6d9b91a",
       "version_major": 2,
       "version_minor": 0
      },
      "text/plain": [
       "0it [00:00, ?it/s]"
      ]
     },
     "metadata": {},
     "output_type": "display_data"
    },
    {
     "name": "stdout",
     "output_type": "stream",
     "text": [
      "Epoch: 54 | FT  | Train Loss: 0.00086 | Val Loss: 0.00103\n",
      "Epoch: 54 | Amp | Train Loss: 0.0126 | Val Loss: 0.01262\n",
      "Epoch: 54 | Ph  | Train Loss: 0.020 | Val Loss: 0.02012\n",
      "Epoch: 54 | SW Thresh: 0.0975\n",
      "Epoch: 54 | Ending LR: 0.000121\n"
     ]
    },
    {
     "data": {
      "application/vnd.jupyter.widget-view+json": {
       "model_id": "e9f212fa7c9f4ee5ac8d1a0307c48b48",
       "version_major": 2,
       "version_minor": 0
      },
      "text/plain": [
       "0it [00:00, ?it/s]"
      ]
     },
     "metadata": {},
     "output_type": "display_data"
    },
    {
     "name": "stdout",
     "output_type": "stream",
     "text": [
      "Saving improved model after Val Loss improved from 0.00102 to 0.00102\n",
      "Epoch: 55 | FT  | Train Loss: 0.00086 | Val Loss: 0.00102\n",
      "Epoch: 55 | Amp | Train Loss: 0.0126 | Val Loss: 0.01269\n",
      "Epoch: 55 | Ph  | Train Loss: 0.020 | Val Loss: 0.02018\n",
      "Epoch: 55 | SW Thresh: 0.0980\n",
      "Epoch: 55 | Ending LR: 0.000117\n"
     ]
    },
    {
     "data": {
      "application/vnd.jupyter.widget-view+json": {
       "model_id": "6714d46721e04ca095afe61fa15cac5e",
       "version_major": 2,
       "version_minor": 0
      },
      "text/plain": [
       "0it [00:00, ?it/s]"
      ]
     },
     "metadata": {},
     "output_type": "display_data"
    },
    {
     "name": "stdout",
     "output_type": "stream",
     "text": [
      "Epoch: 56 | FT  | Train Loss: 0.00086 | Val Loss: 0.00103\n",
      "Epoch: 56 | Amp | Train Loss: 0.0126 | Val Loss: 0.01254\n",
      "Epoch: 56 | Ph  | Train Loss: 0.020 | Val Loss: 0.01997\n",
      "Epoch: 56 | SW Thresh: 0.0985\n",
      "Epoch: 56 | Ending LR: 0.000113\n"
     ]
    },
    {
     "data": {
      "application/vnd.jupyter.widget-view+json": {
       "model_id": "1ea2f6bfd87e40b69b65573d26030c9b",
       "version_major": 2,
       "version_minor": 0
      },
      "text/plain": [
       "0it [00:00, ?it/s]"
      ]
     },
     "metadata": {},
     "output_type": "display_data"
    },
    {
     "name": "stdout",
     "output_type": "stream",
     "text": [
      "Epoch: 57 | FT  | Train Loss: 0.00085 | Val Loss: 0.00102\n",
      "Epoch: 57 | Amp | Train Loss: 0.0126 | Val Loss: 0.01265\n",
      "Epoch: 57 | Ph  | Train Loss: 0.020 | Val Loss: 0.02012\n",
      "Epoch: 57 | SW Thresh: 0.0990\n",
      "Epoch: 57 | Ending LR: 0.000108\n"
     ]
    },
    {
     "data": {
      "application/vnd.jupyter.widget-view+json": {
       "model_id": "706ca017d143495daffca036237f4006",
       "version_major": 2,
       "version_minor": 0
      },
      "text/plain": [
       "0it [00:00, ?it/s]"
      ]
     },
     "metadata": {},
     "output_type": "display_data"
    },
    {
     "name": "stdout",
     "output_type": "stream",
     "text": [
      "Epoch: 58 | FT  | Train Loss: 0.00085 | Val Loss: 0.00102\n",
      "Epoch: 58 | Amp | Train Loss: 0.0126 | Val Loss: 0.01254\n",
      "Epoch: 58 | Ph  | Train Loss: 0.020 | Val Loss: 0.01998\n",
      "Epoch: 58 | SW Thresh: 0.0995\n",
      "Epoch: 58 | Ending LR: 0.000104\n"
     ]
    },
    {
     "data": {
      "application/vnd.jupyter.widget-view+json": {
       "model_id": "52b882fa5a3e4f31b88ea7083fd75491",
       "version_major": 2,
       "version_minor": 0
      },
      "text/plain": [
       "0it [00:00, ?it/s]"
      ]
     },
     "metadata": {},
     "output_type": "display_data"
    }
   ],
   "source": [
    "metrics = {'losses':[],'val_losses':[], 'lrs':[], 'best_val_loss' : np.inf}\n",
    "\n",
    "for epoch in tqdm(range(EPOCHS)):\n",
    "    \n",
    "    #Set model to train mode\n",
    "    model.train() \n",
    "\n",
    "    #Training loop\n",
    "    train(train_loader,metrics)\n",
    "\n",
    "    #Switch model to eval mode\n",
    "    model.eval()\n",
    "\n",
    "#     Validation loop\n",
    "    validate(validation_loader,metrics)\n",
    "    l = metrics['losses'][-1]\n",
    "    lv =  metrics['val_losses'][-1]\n",
    "\n",
    "    print(f'Epoch: {epoch} | FT  | Train Loss: {l[0]:.5f} | Val Loss: {lv[0]:.5f}')\n",
    "    print(f'Epoch: {epoch} | Amp | Train Loss: {l[1]:.4f} | Val Loss: {lv[1]:.5f}')\n",
    "    print(f'Epoch: {epoch} | Ph  | Train Loss: {l[2]:.3f} | Val Loss: {lv[2]:.5f}')\n",
    "    if NGPUS>1:\n",
    "        print(f'Epoch: {epoch} | SW Thresh: {model.module.sw_thresh:.4f}')\n",
    "    else:\n",
    "        print(f'Epoch: {epoch} | SW Thresh: {model.sw_thresh:.4f}')\n",
    "           \n",
    "    print(f'Epoch: {epoch} | Ending LR: {metrics[\"lrs\"][-1][0]:.6f}')\n",
    "\n",
    "    if(epoch>=(CONST_EPOCHS-1)): #Keep SW thresh =0 i.e fixed half box support for first N epochs\n",
    "        if NGPUS>1:\n",
    "            model.module.sw_thresh+=SW_INCREMENT #Update shrink-wrap threshold every epoch\n",
    "        else:\n",
    "            model.sw_thresh+=SW_INCREMENT #Update shrink-wrap threshold every epoch"
   ]
  },
  {
   "cell_type": "code",
   "execution_count": null,
   "metadata": {
    "scrolled": true
   },
   "outputs": [],
   "source": [
    "batches = np.linspace(0,len(metrics['lrs']),len(metrics['lrs'])+1)\n",
    "epoch_list = batches/iterations_per_epoch\n",
    "\n",
    "plt.plot(epoch_list[1:],metrics['lrs'], 'C3-')\n",
    "plt.grid()\n",
    "plt.ylabel(\"Learning rate\")\n",
    "plt.xlabel(\"Epoch\")"
   ]
  },
  {
   "cell_type": "code",
   "execution_count": null,
   "metadata": {},
   "outputs": [],
   "source": [
    "losses_arr = np.array(metrics['losses'])\n",
    "val_losses_arr = np.array(metrics['val_losses'])\n",
    "losses_arr.shape\n",
    "fig, ax = plt.subplots(3,sharex=True, figsize=(15, 8))\n",
    "ax[0].plot(losses_arr[:,0], 'C3o-', label = \"Train FT loss\")\n",
    "ax[0].plot(val_losses_arr[:,0], 'C0o-', label = \"Val FT loss\")\n",
    "ax[0].set(ylabel='Loss')\n",
    "ax[0].grid()\n",
    "ax[0].legend(loc='center right', bbox_to_anchor=(1.5, 0.5))\n",
    "ax[1].plot(losses_arr[:,1], 'C3o-', label = \"Train Amp loss\")\n",
    "ax[1].plot(val_losses_arr[:,1], 'C0o-', label = \"Val Amp loss\")\n",
    "ax[1].set(ylabel='Loss')\n",
    "ax[1].grid()\n",
    "ax[1].legend(loc='center right', bbox_to_anchor=(1.5, 0.5))\n",
    "ax[2].plot(losses_arr[:,2], 'C3o-', label = \"Train Ph loss\")\n",
    "ax[2].plot(val_losses_arr[:,2], 'C0o-', label = \"Val Ph loss\")\n",
    "ax[2].set(ylabel='Loss')\n",
    "ax[2].grid()\n",
    "ax[2].legend(loc='center right', bbox_to_anchor=(1.5, 0.5))\n",
    "\n",
    "plt.tight_layout()\n",
    "plt.xlabel(\"Epochs\")\n"
   ]
  },
  {
   "cell_type": "code",
   "execution_count": null,
   "metadata": {},
   "outputs": [],
   "source": [
    "# load test data\n",
    "# give test data filelist\n",
    "test_filelist = filelist[N_TRAIN:N_TRAIN+100]\n",
    "print('number of test data:%d' % len(test_filelist))\n",
    "\n",
    "# load test data \n",
    "test_dataset = Dataset(\n",
    "    test_filelist, data_path, load_all=False, ratio=TRAIN_ratio, dataset='test',scale_I=scale_I,shuffle=False)\n",
    "test_loader = DataLoader(\n",
    "    test_dataset, batch_size=16, shuffle=False, num_workers=NGPUS)\n",
    "# test_sampler = DistributedSampler(\n",
    "#     test_dataset, num_replicas=1, rank=rank, shuffle=False)\n",
    "# test_loader = DataLoader(\n",
    "#     test_dataset, batch_size=16, sampler=test_sampler, shuffle=False, **kwargs)"
   ]
  },
  {
   "cell_type": "markdown",
   "metadata": {},
   "source": [
    "# load saved model"
   ]
  },
  {
   "cell_type": "code",
   "execution_count": null,
   "metadata": {},
   "outputs": [],
   "source": [
    "# model_path = MODEL_SAVE_PATH + 'best_model.pth'"
   ]
  },
  {
   "cell_type": "code",
   "execution_count": null,
   "metadata": {},
   "outputs": [],
   "source": [
    "# model = recon_model()\n",
    "# model.load_state_dict(torch.load(model_path))"
   ]
  },
  {
   "cell_type": "code",
   "execution_count": null,
   "metadata": {
    "colab": {
     "base_uri": "https://localhost:8080/"
    },
    "id": "FgRez97ODSZS",
    "outputId": "c40cc503-b183-4cf4-b7c8-9274a5d3834b"
   },
   "outputs": [],
   "source": [
    "model.eval() #imp when have dropout etc\n",
    "ft_results=[]\n",
    "complex_results=[]\n",
    "amp_preds = []\n",
    "ph_preds  = []\n",
    "supports = []\n",
    "\n",
    "ft_test_array = []\n",
    "amp_test_array = []\n",
    "ph_test_array = []\n",
    "\n",
    "\n",
    "for i, (ft_images,amps,phs) in enumerate(test_loader):\n",
    "    ft_images = ft_images.to(device)\n",
    "    y, complex_x, amp, ph, support = model(ft_images)\n",
    "    #amp, ph, support = model(ft_images)\n",
    "    for j in range(amp.shape[0]):\n",
    "        #prediction\n",
    "        ft_results.append([y[j].detach().to(\"cpu\").numpy()])\n",
    "        complex_results.append([complex_x[j].detach().to(\"cpu\").numpy()])\n",
    "        amp_preds.append(amp[j].detach().to(\"cpu\").numpy())\n",
    "        ph_preds.append(ph[j].detach().to(\"cpu\").numpy())\n",
    "        supports.append(support[j].detach().to(\"cpu\").numpy())\n",
    "        \n",
    "        #ground truth\n",
    "        ft_test_array.append([ft_images[j].detach().to(\"cpu\").numpy()])\n",
    "        amp_test_array.append([amps[j].detach().to(\"cpu\").numpy()])\n",
    "        ph_test_array.append([phs[j].detach().to(\"cpu\").numpy()])\n",
    "        "
   ]
  },
  {
   "cell_type": "code",
   "execution_count": null,
   "metadata": {
    "colab": {
     "base_uri": "https://localhost:8080/"
    },
    "id": "X_nkDPQqJPnz",
    "outputId": "6e84d3f7-4334-4529-864a-4ad566c1968d"
   },
   "outputs": [],
   "source": [
    "ft_results = np.array(ft_results).squeeze()\n",
    "complex_results = np.array(complex_results).squeeze()\n",
    "amp_preds = np.array(amp_preds).squeeze()\n",
    "ph_preds = np.array(ph_preds).squeeze()\n",
    "supports = np.array(supports).squeeze()\n",
    "\n",
    "print(ft_results.shape, ft_results.dtype)\n",
    "\n",
    "ft_test_array = np.array(ft_test_array).squeeze()\n",
    "amp_test_array = np.array(amp_test_array).squeeze()\n",
    "ph_test_array = np.array(ph_test_array).squeeze()\n",
    "\n",
    "print(ft_test_array.shape, ft_test_array.dtype)"
   ]
  },
  {
   "cell_type": "code",
   "execution_count": null,
   "metadata": {
    "colab": {
     "base_uri": "https://localhost:8080/",
     "height": 950
    },
    "id": "tzJCiz8eKiBE",
    "outputId": "0c04e090-492f-4aed-e102-62dd821860d0"
   },
   "outputs": [],
   "source": [
    "# Test images\n",
    "to_plot = np.random.randint(100, size=2)\n",
    "# to_plot = [20,50]\n",
    "\n",
    "plots = {0:[], 1:[], 2:[]}\n",
    "titles = {0:[], 1:[], 2:[]}\n",
    "for i in to_plot:\n",
    "    plots[0] += [ft_test_array[i],ft_results[i],ft_test_array[i]-ft_results[i]]\n",
    "    titles[0] += [f\"FT input, {i}\", f\"Pred FT, {i}\", f\"Diff FT, {i}\"]\n",
    "    \n",
    "    plots[1] += [supports[i],amp_test_array[i],amp_preds[i]]\n",
    "    titles[1] += [f\"Support, {i}\", f\"True Amp {i}\", f\"Predicted Amp {i}\"]\n",
    "    \n",
    "    tmp = ph_preds[i]*supports[i]\n",
    "    plots[2] += [ph_test_array[i],tmp,ph_test_array[i]-tmp]\n",
    "    titles[2] += [f\"True ph, {i}\", f\"Pred Ph {i}\", f\"Diff Ph {i}\"]\n",
    "\n",
    "for j in range(3):\n",
    "    plot6(plots[j], titles[j])"
   ]
  },
  {
   "cell_type": "code",
   "execution_count": null,
   "metadata": {},
   "outputs": [],
   "source": []
  },
  {
   "cell_type": "code",
   "execution_count": null,
   "metadata": {},
   "outputs": [],
   "source": []
  },
  {
   "cell_type": "code",
   "execution_count": null,
   "metadata": {},
   "outputs": [],
   "source": []
  }
 ],
 "metadata": {
  "accelerator": "GPU",
  "colab": {
   "collapsed_sections": [],
   "name": "unsup_cdinn.ipynb",
   "provenance": []
  },
  "kernelspec": {
   "display_name": "pytorch1",
   "language": "python",
   "name": "pytorch1"
  },
  "language_info": {
   "codemirror_mode": {
    "name": "ipython",
    "version": 3
   },
   "file_extension": ".py",
   "mimetype": "text/x-python",
   "name": "python",
   "nbconvert_exporter": "python",
   "pygments_lexer": "ipython3",
   "version": "3.9.7"
  },
  "widgets": {
   "application/vnd.jupyter.widget-state+json": {
    "024ff1828364401589b43df4595c23db": {
     "model_module": "@jupyter-widgets/base",
     "model_name": "LayoutModel",
     "state": {
      "_model_module": "@jupyter-widgets/base",
      "_model_module_version": "1.2.0",
      "_model_name": "LayoutModel",
      "_view_count": null,
      "_view_module": "@jupyter-widgets/base",
      "_view_module_version": "1.2.0",
      "_view_name": "LayoutView",
      "align_content": null,
      "align_items": null,
      "align_self": null,
      "border": null,
      "bottom": null,
      "display": null,
      "flex": null,
      "flex_flow": null,
      "grid_area": null,
      "grid_auto_columns": null,
      "grid_auto_flow": null,
      "grid_auto_rows": null,
      "grid_column": null,
      "grid_gap": null,
      "grid_row": null,
      "grid_template_areas": null,
      "grid_template_columns": null,
      "grid_template_rows": null,
      "height": null,
      "justify_content": null,
      "justify_items": null,
      "left": null,
      "margin": null,
      "max_height": null,
      "max_width": null,
      "min_height": null,
      "min_width": null,
      "object_fit": null,
      "object_position": null,
      "order": null,
      "overflow": null,
      "overflow_x": null,
      "overflow_y": null,
      "padding": null,
      "right": null,
      "top": null,
      "visibility": null,
      "width": null
     }
    },
    "02bf282a56f7484e82b52c7c43f62adc": {
     "model_module": "@jupyter-widgets/controls",
     "model_name": "HTMLModel",
     "state": {
      "_dom_classes": [],
      "_model_module": "@jupyter-widgets/controls",
      "_model_module_version": "1.5.0",
      "_model_name": "HTMLModel",
      "_view_count": null,
      "_view_module": "@jupyter-widgets/controls",
      "_view_module_version": "1.5.0",
      "_view_name": "HTMLView",
      "description": "",
      "description_tooltip": null,
      "layout": "IPY_MODEL_d873eda2abca499d93b2eb461b2fb8f8",
      "placeholder": "​",
      "style": "IPY_MODEL_804aff62c754412796526c9f401ae2c4",
      "value": " 250/? [00:55&lt;00:00,  4.49it/s]"
     }
    },
    "0985d6d3ec7945a1adaed47f459cf230": {
     "model_module": "@jupyter-widgets/base",
     "model_name": "LayoutModel",
     "state": {
      "_model_module": "@jupyter-widgets/base",
      "_model_module_version": "1.2.0",
      "_model_name": "LayoutModel",
      "_view_count": null,
      "_view_module": "@jupyter-widgets/base",
      "_view_module_version": "1.2.0",
      "_view_name": "LayoutView",
      "align_content": null,
      "align_items": null,
      "align_self": null,
      "border": null,
      "bottom": null,
      "display": null,
      "flex": null,
      "flex_flow": null,
      "grid_area": null,
      "grid_auto_columns": null,
      "grid_auto_flow": null,
      "grid_auto_rows": null,
      "grid_column": null,
      "grid_gap": null,
      "grid_row": null,
      "grid_template_areas": null,
      "grid_template_columns": null,
      "grid_template_rows": null,
      "height": null,
      "justify_content": null,
      "justify_items": null,
      "left": null,
      "margin": null,
      "max_height": null,
      "max_width": null,
      "min_height": null,
      "min_width": null,
      "object_fit": null,
      "object_position": null,
      "order": null,
      "overflow": null,
      "overflow_x": null,
      "overflow_y": null,
      "padding": null,
      "right": null,
      "top": null,
      "visibility": null,
      "width": null
     }
    },
    "09d4403246274d3d86e1d95de928359b": {
     "model_module": "@jupyter-widgets/controls",
     "model_name": "FloatProgressModel",
     "state": {
      "_dom_classes": [],
      "_model_module": "@jupyter-widgets/controls",
      "_model_module_version": "1.5.0",
      "_model_name": "FloatProgressModel",
      "_view_count": null,
      "_view_module": "@jupyter-widgets/controls",
      "_view_module_version": "1.5.0",
      "_view_name": "ProgressView",
      "bar_style": "success",
      "description": "",
      "description_tooltip": null,
      "layout": "IPY_MODEL_32a2e47ffe5f4ffaba126b86c59f037a",
      "max": 1,
      "min": 0,
      "orientation": "horizontal",
      "style": "IPY_MODEL_5eea01557ef44a0081c8beabe4c0eda9",
      "value": 1
     }
    },
    "0d8a753c4a364fb4bccb177b195a516c": {
     "model_module": "@jupyter-widgets/controls",
     "model_name": "HTMLModel",
     "state": {
      "_dom_classes": [],
      "_model_module": "@jupyter-widgets/controls",
      "_model_module_version": "1.5.0",
      "_model_name": "HTMLModel",
      "_view_count": null,
      "_view_module": "@jupyter-widgets/controls",
      "_view_module_version": "1.5.0",
      "_view_name": "HTMLView",
      "description": "",
      "description_tooltip": null,
      "layout": "IPY_MODEL_bb030d945e4e4c299a8b97a0095eca02",
      "placeholder": "​",
      "style": "IPY_MODEL_f0ac69d1825941aab99c9c87630c23e2",
      "value": " 250/? [00:04&lt;00:00, 58.92it/s]"
     }
    },
    "0ee5bc4c4caa40dba53e0df76ec28363": {
     "model_module": "@jupyter-widgets/controls",
     "model_name": "FloatProgressModel",
     "state": {
      "_dom_classes": [],
      "_model_module": "@jupyter-widgets/controls",
      "_model_module_version": "1.5.0",
      "_model_name": "FloatProgressModel",
      "_view_count": null,
      "_view_module": "@jupyter-widgets/controls",
      "_view_module_version": "1.5.0",
      "_view_name": "ProgressView",
      "bar_style": "success",
      "description": "",
      "description_tooltip": null,
      "layout": "IPY_MODEL_8f9effcd65ae4fa882493c58df2a2501",
      "max": 1,
      "min": 0,
      "orientation": "horizontal",
      "style": "IPY_MODEL_c57dadb319ec4f1f81b92dbdb77a63a0",
      "value": 1
     }
    },
    "115a8e1e571f4438ba4810e79039362e": {
     "model_module": "@jupyter-widgets/controls",
     "model_name": "DescriptionStyleModel",
     "state": {
      "_model_module": "@jupyter-widgets/controls",
      "_model_module_version": "1.5.0",
      "_model_name": "DescriptionStyleModel",
      "_view_count": null,
      "_view_module": "@jupyter-widgets/base",
      "_view_module_version": "1.2.0",
      "_view_name": "StyleView",
      "description_width": ""
     }
    },
    "167385656ab242a59463764f7d3f3fe3": {
     "model_module": "@jupyter-widgets/base",
     "model_name": "LayoutModel",
     "state": {
      "_model_module": "@jupyter-widgets/base",
      "_model_module_version": "1.2.0",
      "_model_name": "LayoutModel",
      "_view_count": null,
      "_view_module": "@jupyter-widgets/base",
      "_view_module_version": "1.2.0",
      "_view_name": "LayoutView",
      "align_content": null,
      "align_items": null,
      "align_self": null,
      "border": null,
      "bottom": null,
      "display": null,
      "flex": null,
      "flex_flow": null,
      "grid_area": null,
      "grid_auto_columns": null,
      "grid_auto_flow": null,
      "grid_auto_rows": null,
      "grid_column": null,
      "grid_gap": null,
      "grid_row": null,
      "grid_template_areas": null,
      "grid_template_columns": null,
      "grid_template_rows": null,
      "height": null,
      "justify_content": null,
      "justify_items": null,
      "left": null,
      "margin": null,
      "max_height": null,
      "max_width": null,
      "min_height": null,
      "min_width": null,
      "object_fit": null,
      "object_position": null,
      "order": null,
      "overflow": null,
      "overflow_x": null,
      "overflow_y": null,
      "padding": null,
      "right": null,
      "top": null,
      "visibility": null,
      "width": null
     }
    },
    "19e2e13584ff4c15a9c3ab5272d9db0e": {
     "model_module": "@jupyter-widgets/controls",
     "model_name": "FloatProgressModel",
     "state": {
      "_dom_classes": [],
      "_model_module": "@jupyter-widgets/controls",
      "_model_module_version": "1.5.0",
      "_model_name": "FloatProgressModel",
      "_view_count": null,
      "_view_module": "@jupyter-widgets/controls",
      "_view_module_version": "1.5.0",
      "_view_name": "ProgressView",
      "bar_style": "success",
      "description": "",
      "description_tooltip": null,
      "layout": "IPY_MODEL_8ec31306cb004ae98e6322259a89dbc8",
      "max": 1,
      "min": 0,
      "orientation": "horizontal",
      "style": "IPY_MODEL_ee4629d6ef2d4827937d66616049d055",
      "value": 1
     }
    },
    "1b670225b5ca4ce99984de10dcc684e3": {
     "model_module": "@jupyter-widgets/controls",
     "model_name": "FloatProgressModel",
     "state": {
      "_dom_classes": [],
      "_model_module": "@jupyter-widgets/controls",
      "_model_module_version": "1.5.0",
      "_model_name": "FloatProgressModel",
      "_view_count": null,
      "_view_module": "@jupyter-widgets/controls",
      "_view_module_version": "1.5.0",
      "_view_name": "ProgressView",
      "bar_style": "success",
      "description": "",
      "description_tooltip": null,
      "layout": "IPY_MODEL_0985d6d3ec7945a1adaed47f459cf230",
      "max": 1,
      "min": 0,
      "orientation": "horizontal",
      "style": "IPY_MODEL_7f2002b21bca4afdbfaa32893af58e7e",
      "value": 1
     }
    },
    "1e03b61d3f944de1a5a5d853260b4c66": {
     "model_module": "@jupyter-widgets/controls",
     "model_name": "HBoxModel",
     "state": {
      "_dom_classes": [],
      "_model_module": "@jupyter-widgets/controls",
      "_model_module_version": "1.5.0",
      "_model_name": "HBoxModel",
      "_view_count": null,
      "_view_module": "@jupyter-widgets/controls",
      "_view_module_version": "1.5.0",
      "_view_name": "HBoxView",
      "box_style": "",
      "children": [
       "IPY_MODEL_1b670225b5ca4ce99984de10dcc684e3",
       "IPY_MODEL_c322e7cb475040aabf23105fe9a9e56a"
      ],
      "layout": "IPY_MODEL_9800141673b449ed879fd0da9abc5a46"
     }
    },
    "25976705085f4f098f323acd1f6f7b7f": {
     "model_module": "@jupyter-widgets/controls",
     "model_name": "FloatProgressModel",
     "state": {
      "_dom_classes": [],
      "_model_module": "@jupyter-widgets/controls",
      "_model_module_version": "1.5.0",
      "_model_name": "FloatProgressModel",
      "_view_count": null,
      "_view_module": "@jupyter-widgets/controls",
      "_view_module_version": "1.5.0",
      "_view_name": "ProgressView",
      "bar_style": "success",
      "description": "",
      "description_tooltip": null,
      "layout": "IPY_MODEL_99b5984b783f44aeaa2c43324b191245",
      "max": 1,
      "min": 0,
      "orientation": "horizontal",
      "style": "IPY_MODEL_7981b304c61c4910abf58f26b8778293",
      "value": 1
     }
    },
    "25ed9dc6d04d44eba124c20543a17d7a": {
     "model_module": "@jupyter-widgets/base",
     "model_name": "LayoutModel",
     "state": {
      "_model_module": "@jupyter-widgets/base",
      "_model_module_version": "1.2.0",
      "_model_name": "LayoutModel",
      "_view_count": null,
      "_view_module": "@jupyter-widgets/base",
      "_view_module_version": "1.2.0",
      "_view_name": "LayoutView",
      "align_content": null,
      "align_items": null,
      "align_self": null,
      "border": null,
      "bottom": null,
      "display": null,
      "flex": null,
      "flex_flow": null,
      "grid_area": null,
      "grid_auto_columns": null,
      "grid_auto_flow": null,
      "grid_auto_rows": null,
      "grid_column": null,
      "grid_gap": null,
      "grid_row": null,
      "grid_template_areas": null,
      "grid_template_columns": null,
      "grid_template_rows": null,
      "height": null,
      "justify_content": null,
      "justify_items": null,
      "left": null,
      "margin": null,
      "max_height": null,
      "max_width": null,
      "min_height": null,
      "min_width": null,
      "object_fit": null,
      "object_position": null,
      "order": null,
      "overflow": null,
      "overflow_x": null,
      "overflow_y": null,
      "padding": null,
      "right": null,
      "top": null,
      "visibility": null,
      "width": null
     }
    },
    "303c3cb14a254afc86180d0b5f478dc9": {
     "model_module": "@jupyter-widgets/controls",
     "model_name": "ProgressStyleModel",
     "state": {
      "_model_module": "@jupyter-widgets/controls",
      "_model_module_version": "1.5.0",
      "_model_name": "ProgressStyleModel",
      "_view_count": null,
      "_view_module": "@jupyter-widgets/base",
      "_view_module_version": "1.2.0",
      "_view_name": "StyleView",
      "bar_color": null,
      "description_width": "initial"
     }
    },
    "30585ce7fa5b4630b247a5baddaba8b5": {
     "model_module": "@jupyter-widgets/base",
     "model_name": "LayoutModel",
     "state": {
      "_model_module": "@jupyter-widgets/base",
      "_model_module_version": "1.2.0",
      "_model_name": "LayoutModel",
      "_view_count": null,
      "_view_module": "@jupyter-widgets/base",
      "_view_module_version": "1.2.0",
      "_view_name": "LayoutView",
      "align_content": null,
      "align_items": null,
      "align_self": null,
      "border": null,
      "bottom": null,
      "display": null,
      "flex": null,
      "flex_flow": null,
      "grid_area": null,
      "grid_auto_columns": null,
      "grid_auto_flow": null,
      "grid_auto_rows": null,
      "grid_column": null,
      "grid_gap": null,
      "grid_row": null,
      "grid_template_areas": null,
      "grid_template_columns": null,
      "grid_template_rows": null,
      "height": null,
      "justify_content": null,
      "justify_items": null,
      "left": null,
      "margin": null,
      "max_height": null,
      "max_width": null,
      "min_height": null,
      "min_width": null,
      "object_fit": null,
      "object_position": null,
      "order": null,
      "overflow": null,
      "overflow_x": null,
      "overflow_y": null,
      "padding": null,
      "right": null,
      "top": null,
      "visibility": null,
      "width": null
     }
    },
    "316cf25da6ea481b8d0185645882461f": {
     "model_module": "@jupyter-widgets/controls",
     "model_name": "DescriptionStyleModel",
     "state": {
      "_model_module": "@jupyter-widgets/controls",
      "_model_module_version": "1.5.0",
      "_model_name": "DescriptionStyleModel",
      "_view_count": null,
      "_view_module": "@jupyter-widgets/base",
      "_view_module_version": "1.2.0",
      "_view_name": "StyleView",
      "description_width": ""
     }
    },
    "322273b38b71464fac0eb7b22920add8": {
     "model_module": "@jupyter-widgets/controls",
     "model_name": "DescriptionStyleModel",
     "state": {
      "_model_module": "@jupyter-widgets/controls",
      "_model_module_version": "1.5.0",
      "_model_name": "DescriptionStyleModel",
      "_view_count": null,
      "_view_module": "@jupyter-widgets/base",
      "_view_module_version": "1.2.0",
      "_view_name": "StyleView",
      "description_width": ""
     }
    },
    "32a2e47ffe5f4ffaba126b86c59f037a": {
     "model_module": "@jupyter-widgets/base",
     "model_name": "LayoutModel",
     "state": {
      "_model_module": "@jupyter-widgets/base",
      "_model_module_version": "1.2.0",
      "_model_name": "LayoutModel",
      "_view_count": null,
      "_view_module": "@jupyter-widgets/base",
      "_view_module_version": "1.2.0",
      "_view_name": "LayoutView",
      "align_content": null,
      "align_items": null,
      "align_self": null,
      "border": null,
      "bottom": null,
      "display": null,
      "flex": null,
      "flex_flow": null,
      "grid_area": null,
      "grid_auto_columns": null,
      "grid_auto_flow": null,
      "grid_auto_rows": null,
      "grid_column": null,
      "grid_gap": null,
      "grid_row": null,
      "grid_template_areas": null,
      "grid_template_columns": null,
      "grid_template_rows": null,
      "height": null,
      "justify_content": null,
      "justify_items": null,
      "left": null,
      "margin": null,
      "max_height": null,
      "max_width": null,
      "min_height": null,
      "min_width": null,
      "object_fit": null,
      "object_position": null,
      "order": null,
      "overflow": null,
      "overflow_x": null,
      "overflow_y": null,
      "padding": null,
      "right": null,
      "top": null,
      "visibility": null,
      "width": null
     }
    },
    "32e2351b30af43c5bd283671329ac745": {
     "model_module": "@jupyter-widgets/controls",
     "model_name": "ProgressStyleModel",
     "state": {
      "_model_module": "@jupyter-widgets/controls",
      "_model_module_version": "1.5.0",
      "_model_name": "ProgressStyleModel",
      "_view_count": null,
      "_view_module": "@jupyter-widgets/base",
      "_view_module_version": "1.2.0",
      "_view_name": "StyleView",
      "bar_color": null,
      "description_width": "initial"
     }
    },
    "352a5cb188544af1b369886780336c86": {
     "model_module": "@jupyter-widgets/controls",
     "model_name": "ProgressStyleModel",
     "state": {
      "_model_module": "@jupyter-widgets/controls",
      "_model_module_version": "1.5.0",
      "_model_name": "ProgressStyleModel",
      "_view_count": null,
      "_view_module": "@jupyter-widgets/base",
      "_view_module_version": "1.2.0",
      "_view_name": "StyleView",
      "bar_color": null,
      "description_width": "initial"
     }
    },
    "39d46a489d774b2eac0237ccbd5d5931": {
     "model_module": "@jupyter-widgets/controls",
     "model_name": "HTMLModel",
     "state": {
      "_dom_classes": [],
      "_model_module": "@jupyter-widgets/controls",
      "_model_module_version": "1.5.0",
      "_model_name": "HTMLModel",
      "_view_count": null,
      "_view_module": "@jupyter-widgets/controls",
      "_view_module_version": "1.5.0",
      "_view_name": "HTMLView",
      "description": "",
      "description_tooltip": null,
      "layout": "IPY_MODEL_a2c07e6be50940bc9cc2a6b69438f1fc",
      "placeholder": "​",
      "style": "IPY_MODEL_99b355c33c284a05a6870d8484b8b17d",
      "value": " 250/? [00:04&lt;00:00, 59.41it/s]"
     }
    },
    "3a11a223e5244642848bfebf02995f56": {
     "model_module": "@jupyter-widgets/controls",
     "model_name": "HBoxModel",
     "state": {
      "_dom_classes": [],
      "_model_module": "@jupyter-widgets/controls",
      "_model_module_version": "1.5.0",
      "_model_name": "HBoxModel",
      "_view_count": null,
      "_view_module": "@jupyter-widgets/controls",
      "_view_module_version": "1.5.0",
      "_view_name": "HBoxView",
      "box_style": "",
      "children": [
       "IPY_MODEL_0ee5bc4c4caa40dba53e0df76ec28363",
       "IPY_MODEL_f30043d33c824519b4ad2f2a0765430d"
      ],
      "layout": "IPY_MODEL_f9375ec84dea466b9ae15bd140550521"
     }
    },
    "3ad1659f25ba4f6c90edad0e12af47a5": {
     "model_module": "@jupyter-widgets/controls",
     "model_name": "DescriptionStyleModel",
     "state": {
      "_model_module": "@jupyter-widgets/controls",
      "_model_module_version": "1.5.0",
      "_model_name": "DescriptionStyleModel",
      "_view_count": null,
      "_view_module": "@jupyter-widgets/base",
      "_view_module_version": "1.2.0",
      "_view_name": "StyleView",
      "description_width": ""
     }
    },
    "4356b24762be4de2937d390ffd20983d": {
     "model_module": "@jupyter-widgets/controls",
     "model_name": "HBoxModel",
     "state": {
      "_dom_classes": [],
      "_model_module": "@jupyter-widgets/controls",
      "_model_module_version": "1.5.0",
      "_model_name": "HBoxModel",
      "_view_count": null,
      "_view_module": "@jupyter-widgets/controls",
      "_view_module_version": "1.5.0",
      "_view_name": "HBoxView",
      "box_style": "",
      "children": [
       "IPY_MODEL_b3a9e5f716694a02a689643800adb9a5",
       "IPY_MODEL_0d8a753c4a364fb4bccb177b195a516c"
      ],
      "layout": "IPY_MODEL_fadb39a3509e4832bb432dcb2f786663"
     }
    },
    "45928225523f4eaaa216dca34d79d8a9": {
     "model_module": "@jupyter-widgets/controls",
     "model_name": "HBoxModel",
     "state": {
      "_dom_classes": [],
      "_model_module": "@jupyter-widgets/controls",
      "_model_module_version": "1.5.0",
      "_model_name": "HBoxModel",
      "_view_count": null,
      "_view_module": "@jupyter-widgets/controls",
      "_view_module_version": "1.5.0",
      "_view_name": "HBoxView",
      "box_style": "",
      "children": [
       "IPY_MODEL_19e2e13584ff4c15a9c3ab5272d9db0e",
       "IPY_MODEL_53ade3afc8964580993a260823a3c1b5"
      ],
      "layout": "IPY_MODEL_5d52bec01533444fa030e25633dd50a6"
     }
    },
    "4795dbd4251043d1ae29fc0d8f37bdcb": {
     "model_module": "@jupyter-widgets/controls",
     "model_name": "ProgressStyleModel",
     "state": {
      "_model_module": "@jupyter-widgets/controls",
      "_model_module_version": "1.5.0",
      "_model_name": "ProgressStyleModel",
      "_view_count": null,
      "_view_module": "@jupyter-widgets/base",
      "_view_module_version": "1.2.0",
      "_view_name": "StyleView",
      "bar_color": null,
      "description_width": "initial"
     }
    },
    "49ac71a9ffa14ac2ac62a017ea8deacf": {
     "model_module": "@jupyter-widgets/controls",
     "model_name": "ProgressStyleModel",
     "state": {
      "_model_module": "@jupyter-widgets/controls",
      "_model_module_version": "1.5.0",
      "_model_name": "ProgressStyleModel",
      "_view_count": null,
      "_view_module": "@jupyter-widgets/base",
      "_view_module_version": "1.2.0",
      "_view_name": "StyleView",
      "bar_color": null,
      "description_width": "initial"
     }
    },
    "53ade3afc8964580993a260823a3c1b5": {
     "model_module": "@jupyter-widgets/controls",
     "model_name": "HTMLModel",
     "state": {
      "_dom_classes": [],
      "_model_module": "@jupyter-widgets/controls",
      "_model_module_version": "1.5.0",
      "_model_name": "HTMLModel",
      "_view_count": null,
      "_view_module": "@jupyter-widgets/controls",
      "_view_module_version": "1.5.0",
      "_view_name": "HTMLView",
      "description": "",
      "description_tooltip": null,
      "layout": "IPY_MODEL_024ff1828364401589b43df4595c23db",
      "placeholder": "​",
      "style": "IPY_MODEL_5d1b01e5d3a44040a36d0cea427b7342",
      "value": " 250/? [00:04&lt;00:00, 59.74it/s]"
     }
    },
    "5d1b01e5d3a44040a36d0cea427b7342": {
     "model_module": "@jupyter-widgets/controls",
     "model_name": "DescriptionStyleModel",
     "state": {
      "_model_module": "@jupyter-widgets/controls",
      "_model_module_version": "1.5.0",
      "_model_name": "DescriptionStyleModel",
      "_view_count": null,
      "_view_module": "@jupyter-widgets/base",
      "_view_module_version": "1.2.0",
      "_view_name": "StyleView",
      "description_width": ""
     }
    },
    "5d52bec01533444fa030e25633dd50a6": {
     "model_module": "@jupyter-widgets/base",
     "model_name": "LayoutModel",
     "state": {
      "_model_module": "@jupyter-widgets/base",
      "_model_module_version": "1.2.0",
      "_model_name": "LayoutModel",
      "_view_count": null,
      "_view_module": "@jupyter-widgets/base",
      "_view_module_version": "1.2.0",
      "_view_name": "LayoutView",
      "align_content": null,
      "align_items": null,
      "align_self": null,
      "border": null,
      "bottom": null,
      "display": null,
      "flex": null,
      "flex_flow": null,
      "grid_area": null,
      "grid_auto_columns": null,
      "grid_auto_flow": null,
      "grid_auto_rows": null,
      "grid_column": null,
      "grid_gap": null,
      "grid_row": null,
      "grid_template_areas": null,
      "grid_template_columns": null,
      "grid_template_rows": null,
      "height": null,
      "justify_content": null,
      "justify_items": null,
      "left": null,
      "margin": null,
      "max_height": null,
      "max_width": null,
      "min_height": null,
      "min_width": null,
      "object_fit": null,
      "object_position": null,
      "order": null,
      "overflow": null,
      "overflow_x": null,
      "overflow_y": null,
      "padding": null,
      "right": null,
      "top": null,
      "visibility": null,
      "width": null
     }
    },
    "5eea01557ef44a0081c8beabe4c0eda9": {
     "model_module": "@jupyter-widgets/controls",
     "model_name": "ProgressStyleModel",
     "state": {
      "_model_module": "@jupyter-widgets/controls",
      "_model_module_version": "1.5.0",
      "_model_name": "ProgressStyleModel",
      "_view_count": null,
      "_view_module": "@jupyter-widgets/base",
      "_view_module_version": "1.2.0",
      "_view_name": "StyleView",
      "bar_color": null,
      "description_width": "initial"
     }
    },
    "5f8125b463dc4955b50934b76ab14a25": {
     "model_module": "@jupyter-widgets/base",
     "model_name": "LayoutModel",
     "state": {
      "_model_module": "@jupyter-widgets/base",
      "_model_module_version": "1.2.0",
      "_model_name": "LayoutModel",
      "_view_count": null,
      "_view_module": "@jupyter-widgets/base",
      "_view_module_version": "1.2.0",
      "_view_name": "LayoutView",
      "align_content": null,
      "align_items": null,
      "align_self": null,
      "border": null,
      "bottom": null,
      "display": null,
      "flex": null,
      "flex_flow": null,
      "grid_area": null,
      "grid_auto_columns": null,
      "grid_auto_flow": null,
      "grid_auto_rows": null,
      "grid_column": null,
      "grid_gap": null,
      "grid_row": null,
      "grid_template_areas": null,
      "grid_template_columns": null,
      "grid_template_rows": null,
      "height": null,
      "justify_content": null,
      "justify_items": null,
      "left": null,
      "margin": null,
      "max_height": null,
      "max_width": null,
      "min_height": null,
      "min_width": null,
      "object_fit": null,
      "object_position": null,
      "order": null,
      "overflow": null,
      "overflow_x": null,
      "overflow_y": null,
      "padding": null,
      "right": null,
      "top": null,
      "visibility": null,
      "width": null
     }
    },
    "6163a0465db047f89ca7a560b34fee9b": {
     "model_module": "@jupyter-widgets/base",
     "model_name": "LayoutModel",
     "state": {
      "_model_module": "@jupyter-widgets/base",
      "_model_module_version": "1.2.0",
      "_model_name": "LayoutModel",
      "_view_count": null,
      "_view_module": "@jupyter-widgets/base",
      "_view_module_version": "1.2.0",
      "_view_name": "LayoutView",
      "align_content": null,
      "align_items": null,
      "align_self": null,
      "border": null,
      "bottom": null,
      "display": null,
      "flex": null,
      "flex_flow": null,
      "grid_area": null,
      "grid_auto_columns": null,
      "grid_auto_flow": null,
      "grid_auto_rows": null,
      "grid_column": null,
      "grid_gap": null,
      "grid_row": null,
      "grid_template_areas": null,
      "grid_template_columns": null,
      "grid_template_rows": null,
      "height": null,
      "justify_content": null,
      "justify_items": null,
      "left": null,
      "margin": null,
      "max_height": null,
      "max_width": null,
      "min_height": null,
      "min_width": null,
      "object_fit": null,
      "object_position": null,
      "order": null,
      "overflow": null,
      "overflow_x": null,
      "overflow_y": null,
      "padding": null,
      "right": null,
      "top": null,
      "visibility": null,
      "width": null
     }
    },
    "69cd426c9ecc4b619ef96166a5275214": {
     "model_module": "@jupyter-widgets/base",
     "model_name": "LayoutModel",
     "state": {
      "_model_module": "@jupyter-widgets/base",
      "_model_module_version": "1.2.0",
      "_model_name": "LayoutModel",
      "_view_count": null,
      "_view_module": "@jupyter-widgets/base",
      "_view_module_version": "1.2.0",
      "_view_name": "LayoutView",
      "align_content": null,
      "align_items": null,
      "align_self": null,
      "border": null,
      "bottom": null,
      "display": null,
      "flex": null,
      "flex_flow": null,
      "grid_area": null,
      "grid_auto_columns": null,
      "grid_auto_flow": null,
      "grid_auto_rows": null,
      "grid_column": null,
      "grid_gap": null,
      "grid_row": null,
      "grid_template_areas": null,
      "grid_template_columns": null,
      "grid_template_rows": null,
      "height": null,
      "justify_content": null,
      "justify_items": null,
      "left": null,
      "margin": null,
      "max_height": null,
      "max_width": null,
      "min_height": null,
      "min_width": null,
      "object_fit": null,
      "object_position": null,
      "order": null,
      "overflow": null,
      "overflow_x": null,
      "overflow_y": null,
      "padding": null,
      "right": null,
      "top": null,
      "visibility": null,
      "width": null
     }
    },
    "6c893df7bf1a4fc5babe8993e52b9d46": {
     "model_module": "@jupyter-widgets/base",
     "model_name": "LayoutModel",
     "state": {
      "_model_module": "@jupyter-widgets/base",
      "_model_module_version": "1.2.0",
      "_model_name": "LayoutModel",
      "_view_count": null,
      "_view_module": "@jupyter-widgets/base",
      "_view_module_version": "1.2.0",
      "_view_name": "LayoutView",
      "align_content": null,
      "align_items": null,
      "align_self": null,
      "border": null,
      "bottom": null,
      "display": null,
      "flex": null,
      "flex_flow": null,
      "grid_area": null,
      "grid_auto_columns": null,
      "grid_auto_flow": null,
      "grid_auto_rows": null,
      "grid_column": null,
      "grid_gap": null,
      "grid_row": null,
      "grid_template_areas": null,
      "grid_template_columns": null,
      "grid_template_rows": null,
      "height": null,
      "justify_content": null,
      "justify_items": null,
      "left": null,
      "margin": null,
      "max_height": null,
      "max_width": null,
      "min_height": null,
      "min_width": null,
      "object_fit": null,
      "object_position": null,
      "order": null,
      "overflow": null,
      "overflow_x": null,
      "overflow_y": null,
      "padding": null,
      "right": null,
      "top": null,
      "visibility": null,
      "width": null
     }
    },
    "74eaee6788384b1e910f5467622cc94f": {
     "model_module": "@jupyter-widgets/controls",
     "model_name": "DescriptionStyleModel",
     "state": {
      "_model_module": "@jupyter-widgets/controls",
      "_model_module_version": "1.5.0",
      "_model_name": "DescriptionStyleModel",
      "_view_count": null,
      "_view_module": "@jupyter-widgets/base",
      "_view_module_version": "1.2.0",
      "_view_name": "StyleView",
      "description_width": ""
     }
    },
    "76b2922f2e1e42fd95c7ecf33e1251a7": {
     "model_module": "@jupyter-widgets/controls",
     "model_name": "FloatProgressModel",
     "state": {
      "_dom_classes": [],
      "_model_module": "@jupyter-widgets/controls",
      "_model_module_version": "1.5.0",
      "_model_name": "FloatProgressModel",
      "_view_count": null,
      "_view_module": "@jupyter-widgets/controls",
      "_view_module_version": "1.5.0",
      "_view_name": "ProgressView",
      "bar_style": "success",
      "description": "",
      "description_tooltip": null,
      "layout": "IPY_MODEL_6c893df7bf1a4fc5babe8993e52b9d46",
      "max": 1,
      "min": 0,
      "orientation": "horizontal",
      "style": "IPY_MODEL_32e2351b30af43c5bd283671329ac745",
      "value": 1
     }
    },
    "7981b304c61c4910abf58f26b8778293": {
     "model_module": "@jupyter-widgets/controls",
     "model_name": "ProgressStyleModel",
     "state": {
      "_model_module": "@jupyter-widgets/controls",
      "_model_module_version": "1.5.0",
      "_model_name": "ProgressStyleModel",
      "_view_count": null,
      "_view_module": "@jupyter-widgets/base",
      "_view_module_version": "1.2.0",
      "_view_name": "StyleView",
      "bar_color": null,
      "description_width": "initial"
     }
    },
    "7f2002b21bca4afdbfaa32893af58e7e": {
     "model_module": "@jupyter-widgets/controls",
     "model_name": "ProgressStyleModel",
     "state": {
      "_model_module": "@jupyter-widgets/controls",
      "_model_module_version": "1.5.0",
      "_model_name": "ProgressStyleModel",
      "_view_count": null,
      "_view_module": "@jupyter-widgets/base",
      "_view_module_version": "1.2.0",
      "_view_name": "StyleView",
      "bar_color": null,
      "description_width": "initial"
     }
    },
    "7f649c3d7f3e45a5b4fd15df316c20d0": {
     "model_module": "@jupyter-widgets/base",
     "model_name": "LayoutModel",
     "state": {
      "_model_module": "@jupyter-widgets/base",
      "_model_module_version": "1.2.0",
      "_model_name": "LayoutModel",
      "_view_count": null,
      "_view_module": "@jupyter-widgets/base",
      "_view_module_version": "1.2.0",
      "_view_name": "LayoutView",
      "align_content": null,
      "align_items": null,
      "align_self": null,
      "border": null,
      "bottom": null,
      "display": null,
      "flex": null,
      "flex_flow": null,
      "grid_area": null,
      "grid_auto_columns": null,
      "grid_auto_flow": null,
      "grid_auto_rows": null,
      "grid_column": null,
      "grid_gap": null,
      "grid_row": null,
      "grid_template_areas": null,
      "grid_template_columns": null,
      "grid_template_rows": null,
      "height": null,
      "justify_content": null,
      "justify_items": null,
      "left": null,
      "margin": null,
      "max_height": null,
      "max_width": null,
      "min_height": null,
      "min_width": null,
      "object_fit": null,
      "object_position": null,
      "order": null,
      "overflow": null,
      "overflow_x": null,
      "overflow_y": null,
      "padding": null,
      "right": null,
      "top": null,
      "visibility": null,
      "width": null
     }
    },
    "804aff62c754412796526c9f401ae2c4": {
     "model_module": "@jupyter-widgets/controls",
     "model_name": "DescriptionStyleModel",
     "state": {
      "_model_module": "@jupyter-widgets/controls",
      "_model_module_version": "1.5.0",
      "_model_name": "DescriptionStyleModel",
      "_view_count": null,
      "_view_module": "@jupyter-widgets/base",
      "_view_module_version": "1.2.0",
      "_view_name": "StyleView",
      "description_width": ""
     }
    },
    "805e1ea513334d5c9bbdc46dd4f3e5e8": {
     "model_module": "@jupyter-widgets/base",
     "model_name": "LayoutModel",
     "state": {
      "_model_module": "@jupyter-widgets/base",
      "_model_module_version": "1.2.0",
      "_model_name": "LayoutModel",
      "_view_count": null,
      "_view_module": "@jupyter-widgets/base",
      "_view_module_version": "1.2.0",
      "_view_name": "LayoutView",
      "align_content": null,
      "align_items": null,
      "align_self": null,
      "border": null,
      "bottom": null,
      "display": null,
      "flex": null,
      "flex_flow": null,
      "grid_area": null,
      "grid_auto_columns": null,
      "grid_auto_flow": null,
      "grid_auto_rows": null,
      "grid_column": null,
      "grid_gap": null,
      "grid_row": null,
      "grid_template_areas": null,
      "grid_template_columns": null,
      "grid_template_rows": null,
      "height": null,
      "justify_content": null,
      "justify_items": null,
      "left": null,
      "margin": null,
      "max_height": null,
      "max_width": null,
      "min_height": null,
      "min_width": null,
      "object_fit": null,
      "object_position": null,
      "order": null,
      "overflow": null,
      "overflow_x": null,
      "overflow_y": null,
      "padding": null,
      "right": null,
      "top": null,
      "visibility": null,
      "width": null
     }
    },
    "81153f4c82e1497a987d30f838a0e122": {
     "model_module": "@jupyter-widgets/controls",
     "model_name": "FloatProgressModel",
     "state": {
      "_dom_classes": [],
      "_model_module": "@jupyter-widgets/controls",
      "_model_module_version": "1.5.0",
      "_model_name": "FloatProgressModel",
      "_view_count": null,
      "_view_module": "@jupyter-widgets/controls",
      "_view_module_version": "1.5.0",
      "_view_name": "ProgressView",
      "bar_style": "success",
      "description": "",
      "description_tooltip": null,
      "layout": "IPY_MODEL_7f649c3d7f3e45a5b4fd15df316c20d0",
      "max": 1,
      "min": 0,
      "orientation": "horizontal",
      "style": "IPY_MODEL_352a5cb188544af1b369886780336c86",
      "value": 1
     }
    },
    "858d496c0e4e495baeb9615f075b0754": {
     "model_module": "@jupyter-widgets/controls",
     "model_name": "HBoxModel",
     "state": {
      "_dom_classes": [],
      "_model_module": "@jupyter-widgets/controls",
      "_model_module_version": "1.5.0",
      "_model_name": "HBoxModel",
      "_view_count": null,
      "_view_module": "@jupyter-widgets/controls",
      "_view_module_version": "1.5.0",
      "_view_name": "HBoxView",
      "box_style": "",
      "children": [
       "IPY_MODEL_25976705085f4f098f323acd1f6f7b7f",
       "IPY_MODEL_b004abc8aa9f42f9b6d2de4ba0b67354"
      ],
      "layout": "IPY_MODEL_5f8125b463dc4955b50934b76ab14a25"
     }
    },
    "8ec31306cb004ae98e6322259a89dbc8": {
     "model_module": "@jupyter-widgets/base",
     "model_name": "LayoutModel",
     "state": {
      "_model_module": "@jupyter-widgets/base",
      "_model_module_version": "1.2.0",
      "_model_name": "LayoutModel",
      "_view_count": null,
      "_view_module": "@jupyter-widgets/base",
      "_view_module_version": "1.2.0",
      "_view_name": "LayoutView",
      "align_content": null,
      "align_items": null,
      "align_self": null,
      "border": null,
      "bottom": null,
      "display": null,
      "flex": null,
      "flex_flow": null,
      "grid_area": null,
      "grid_auto_columns": null,
      "grid_auto_flow": null,
      "grid_auto_rows": null,
      "grid_column": null,
      "grid_gap": null,
      "grid_row": null,
      "grid_template_areas": null,
      "grid_template_columns": null,
      "grid_template_rows": null,
      "height": null,
      "justify_content": null,
      "justify_items": null,
      "left": null,
      "margin": null,
      "max_height": null,
      "max_width": null,
      "min_height": null,
      "min_width": null,
      "object_fit": null,
      "object_position": null,
      "order": null,
      "overflow": null,
      "overflow_x": null,
      "overflow_y": null,
      "padding": null,
      "right": null,
      "top": null,
      "visibility": null,
      "width": null
     }
    },
    "8eef360df096408585578090576c42c3": {
     "model_module": "@jupyter-widgets/controls",
     "model_name": "FloatProgressModel",
     "state": {
      "_dom_classes": [],
      "_model_module": "@jupyter-widgets/controls",
      "_model_module_version": "1.5.0",
      "_model_name": "FloatProgressModel",
      "_view_count": null,
      "_view_module": "@jupyter-widgets/controls",
      "_view_module_version": "1.5.0",
      "_view_name": "ProgressView",
      "bar_style": "success",
      "description": "",
      "description_tooltip": null,
      "layout": "IPY_MODEL_167385656ab242a59463764f7d3f3fe3",
      "max": 1,
      "min": 0,
      "orientation": "horizontal",
      "style": "IPY_MODEL_49ac71a9ffa14ac2ac62a017ea8deacf",
      "value": 1
     }
    },
    "8f9effcd65ae4fa882493c58df2a2501": {
     "model_module": "@jupyter-widgets/base",
     "model_name": "LayoutModel",
     "state": {
      "_model_module": "@jupyter-widgets/base",
      "_model_module_version": "1.2.0",
      "_model_name": "LayoutModel",
      "_view_count": null,
      "_view_module": "@jupyter-widgets/base",
      "_view_module_version": "1.2.0",
      "_view_name": "LayoutView",
      "align_content": null,
      "align_items": null,
      "align_self": null,
      "border": null,
      "bottom": null,
      "display": null,
      "flex": null,
      "flex_flow": null,
      "grid_area": null,
      "grid_auto_columns": null,
      "grid_auto_flow": null,
      "grid_auto_rows": null,
      "grid_column": null,
      "grid_gap": null,
      "grid_row": null,
      "grid_template_areas": null,
      "grid_template_columns": null,
      "grid_template_rows": null,
      "height": null,
      "justify_content": null,
      "justify_items": null,
      "left": null,
      "margin": null,
      "max_height": null,
      "max_width": null,
      "min_height": null,
      "min_width": null,
      "object_fit": null,
      "object_position": null,
      "order": null,
      "overflow": null,
      "overflow_x": null,
      "overflow_y": null,
      "padding": null,
      "right": null,
      "top": null,
      "visibility": null,
      "width": null
     }
    },
    "8fe4e5cc5772492fae5ab39391c3c9ac": {
     "model_module": "@jupyter-widgets/controls",
     "model_name": "HBoxModel",
     "state": {
      "_dom_classes": [],
      "_model_module": "@jupyter-widgets/controls",
      "_model_module_version": "1.5.0",
      "_model_name": "HBoxModel",
      "_view_count": null,
      "_view_module": "@jupyter-widgets/controls",
      "_view_module_version": "1.5.0",
      "_view_name": "HBoxView",
      "box_style": "",
      "children": [
       "IPY_MODEL_81153f4c82e1497a987d30f838a0e122",
       "IPY_MODEL_02bf282a56f7484e82b52c7c43f62adc"
      ],
      "layout": "IPY_MODEL_e3a16d0cdb104a4785f444c74839ed96"
     }
    },
    "92f5433ed46544bbbb676ab4649a6518": {
     "model_module": "@jupyter-widgets/controls",
     "model_name": "HBoxModel",
     "state": {
      "_dom_classes": [],
      "_model_module": "@jupyter-widgets/controls",
      "_model_module_version": "1.5.0",
      "_model_name": "HBoxModel",
      "_view_count": null,
      "_view_module": "@jupyter-widgets/controls",
      "_view_module_version": "1.5.0",
      "_view_name": "HBoxView",
      "box_style": "",
      "children": [
       "IPY_MODEL_76b2922f2e1e42fd95c7ecf33e1251a7",
       "IPY_MODEL_b42ab3eb8ca542639138921b1a385650"
      ],
      "layout": "IPY_MODEL_afede647ab214b92a6158f81d7af1b5b"
     }
    },
    "969a5ff9b36a4006b9644f1ef7e315d8": {
     "model_module": "@jupyter-widgets/controls",
     "model_name": "HTMLModel",
     "state": {
      "_dom_classes": [],
      "_model_module": "@jupyter-widgets/controls",
      "_model_module_version": "1.5.0",
      "_model_name": "HTMLModel",
      "_view_count": null,
      "_view_module": "@jupyter-widgets/controls",
      "_view_module_version": "1.5.0",
      "_view_name": "HTMLView",
      "description": "",
      "description_tooltip": null,
      "layout": "IPY_MODEL_adb435fa83734dfa985c525d416b3930",
      "placeholder": "​",
      "style": "IPY_MODEL_74eaee6788384b1e910f5467622cc94f",
      "value": " 250/? [00:51&lt;00:00,  4.86it/s]"
     }
    },
    "9800141673b449ed879fd0da9abc5a46": {
     "model_module": "@jupyter-widgets/base",
     "model_name": "LayoutModel",
     "state": {
      "_model_module": "@jupyter-widgets/base",
      "_model_module_version": "1.2.0",
      "_model_name": "LayoutModel",
      "_view_count": null,
      "_view_module": "@jupyter-widgets/base",
      "_view_module_version": "1.2.0",
      "_view_name": "LayoutView",
      "align_content": null,
      "align_items": null,
      "align_self": null,
      "border": null,
      "bottom": null,
      "display": null,
      "flex": null,
      "flex_flow": null,
      "grid_area": null,
      "grid_auto_columns": null,
      "grid_auto_flow": null,
      "grid_auto_rows": null,
      "grid_column": null,
      "grid_gap": null,
      "grid_row": null,
      "grid_template_areas": null,
      "grid_template_columns": null,
      "grid_template_rows": null,
      "height": null,
      "justify_content": null,
      "justify_items": null,
      "left": null,
      "margin": null,
      "max_height": null,
      "max_width": null,
      "min_height": null,
      "min_width": null,
      "object_fit": null,
      "object_position": null,
      "order": null,
      "overflow": null,
      "overflow_x": null,
      "overflow_y": null,
      "padding": null,
      "right": null,
      "top": null,
      "visibility": null,
      "width": null
     }
    },
    "99b355c33c284a05a6870d8484b8b17d": {
     "model_module": "@jupyter-widgets/controls",
     "model_name": "DescriptionStyleModel",
     "state": {
      "_model_module": "@jupyter-widgets/controls",
      "_model_module_version": "1.5.0",
      "_model_name": "DescriptionStyleModel",
      "_view_count": null,
      "_view_module": "@jupyter-widgets/base",
      "_view_module_version": "1.2.0",
      "_view_name": "StyleView",
      "description_width": ""
     }
    },
    "99b5984b783f44aeaa2c43324b191245": {
     "model_module": "@jupyter-widgets/base",
     "model_name": "LayoutModel",
     "state": {
      "_model_module": "@jupyter-widgets/base",
      "_model_module_version": "1.2.0",
      "_model_name": "LayoutModel",
      "_view_count": null,
      "_view_module": "@jupyter-widgets/base",
      "_view_module_version": "1.2.0",
      "_view_name": "LayoutView",
      "align_content": null,
      "align_items": null,
      "align_self": null,
      "border": null,
      "bottom": null,
      "display": null,
      "flex": null,
      "flex_flow": null,
      "grid_area": null,
      "grid_auto_columns": null,
      "grid_auto_flow": null,
      "grid_auto_rows": null,
      "grid_column": null,
      "grid_gap": null,
      "grid_row": null,
      "grid_template_areas": null,
      "grid_template_columns": null,
      "grid_template_rows": null,
      "height": null,
      "justify_content": null,
      "justify_items": null,
      "left": null,
      "margin": null,
      "max_height": null,
      "max_width": null,
      "min_height": null,
      "min_width": null,
      "object_fit": null,
      "object_position": null,
      "order": null,
      "overflow": null,
      "overflow_x": null,
      "overflow_y": null,
      "padding": null,
      "right": null,
      "top": null,
      "visibility": null,
      "width": null
     }
    },
    "9b811973de5845e194bbb3a00603f4c2": {
     "model_module": "@jupyter-widgets/base",
     "model_name": "LayoutModel",
     "state": {
      "_model_module": "@jupyter-widgets/base",
      "_model_module_version": "1.2.0",
      "_model_name": "LayoutModel",
      "_view_count": null,
      "_view_module": "@jupyter-widgets/base",
      "_view_module_version": "1.2.0",
      "_view_name": "LayoutView",
      "align_content": null,
      "align_items": null,
      "align_self": null,
      "border": null,
      "bottom": null,
      "display": null,
      "flex": null,
      "flex_flow": null,
      "grid_area": null,
      "grid_auto_columns": null,
      "grid_auto_flow": null,
      "grid_auto_rows": null,
      "grid_column": null,
      "grid_gap": null,
      "grid_row": null,
      "grid_template_areas": null,
      "grid_template_columns": null,
      "grid_template_rows": null,
      "height": null,
      "justify_content": null,
      "justify_items": null,
      "left": null,
      "margin": null,
      "max_height": null,
      "max_width": null,
      "min_height": null,
      "min_width": null,
      "object_fit": null,
      "object_position": null,
      "order": null,
      "overflow": null,
      "overflow_x": null,
      "overflow_y": null,
      "padding": null,
      "right": null,
      "top": null,
      "visibility": null,
      "width": null
     }
    },
    "a2c07e6be50940bc9cc2a6b69438f1fc": {
     "model_module": "@jupyter-widgets/base",
     "model_name": "LayoutModel",
     "state": {
      "_model_module": "@jupyter-widgets/base",
      "_model_module_version": "1.2.0",
      "_model_name": "LayoutModel",
      "_view_count": null,
      "_view_module": "@jupyter-widgets/base",
      "_view_module_version": "1.2.0",
      "_view_name": "LayoutView",
      "align_content": null,
      "align_items": null,
      "align_self": null,
      "border": null,
      "bottom": null,
      "display": null,
      "flex": null,
      "flex_flow": null,
      "grid_area": null,
      "grid_auto_columns": null,
      "grid_auto_flow": null,
      "grid_auto_rows": null,
      "grid_column": null,
      "grid_gap": null,
      "grid_row": null,
      "grid_template_areas": null,
      "grid_template_columns": null,
      "grid_template_rows": null,
      "height": null,
      "justify_content": null,
      "justify_items": null,
      "left": null,
      "margin": null,
      "max_height": null,
      "max_width": null,
      "min_height": null,
      "min_width": null,
      "object_fit": null,
      "object_position": null,
      "order": null,
      "overflow": null,
      "overflow_x": null,
      "overflow_y": null,
      "padding": null,
      "right": null,
      "top": null,
      "visibility": null,
      "width": null
     }
    },
    "ab997c18d84740e9ab1fd2fa472a2b9d": {
     "model_module": "@jupyter-widgets/base",
     "model_name": "LayoutModel",
     "state": {
      "_model_module": "@jupyter-widgets/base",
      "_model_module_version": "1.2.0",
      "_model_name": "LayoutModel",
      "_view_count": null,
      "_view_module": "@jupyter-widgets/base",
      "_view_module_version": "1.2.0",
      "_view_name": "LayoutView",
      "align_content": null,
      "align_items": null,
      "align_self": null,
      "border": null,
      "bottom": null,
      "display": null,
      "flex": null,
      "flex_flow": null,
      "grid_area": null,
      "grid_auto_columns": null,
      "grid_auto_flow": null,
      "grid_auto_rows": null,
      "grid_column": null,
      "grid_gap": null,
      "grid_row": null,
      "grid_template_areas": null,
      "grid_template_columns": null,
      "grid_template_rows": null,
      "height": null,
      "justify_content": null,
      "justify_items": null,
      "left": null,
      "margin": null,
      "max_height": null,
      "max_width": null,
      "min_height": null,
      "min_width": null,
      "object_fit": null,
      "object_position": null,
      "order": null,
      "overflow": null,
      "overflow_x": null,
      "overflow_y": null,
      "padding": null,
      "right": null,
      "top": null,
      "visibility": null,
      "width": null
     }
    },
    "adb435fa83734dfa985c525d416b3930": {
     "model_module": "@jupyter-widgets/base",
     "model_name": "LayoutModel",
     "state": {
      "_model_module": "@jupyter-widgets/base",
      "_model_module_version": "1.2.0",
      "_model_name": "LayoutModel",
      "_view_count": null,
      "_view_module": "@jupyter-widgets/base",
      "_view_module_version": "1.2.0",
      "_view_name": "LayoutView",
      "align_content": null,
      "align_items": null,
      "align_self": null,
      "border": null,
      "bottom": null,
      "display": null,
      "flex": null,
      "flex_flow": null,
      "grid_area": null,
      "grid_auto_columns": null,
      "grid_auto_flow": null,
      "grid_auto_rows": null,
      "grid_column": null,
      "grid_gap": null,
      "grid_row": null,
      "grid_template_areas": null,
      "grid_template_columns": null,
      "grid_template_rows": null,
      "height": null,
      "justify_content": null,
      "justify_items": null,
      "left": null,
      "margin": null,
      "max_height": null,
      "max_width": null,
      "min_height": null,
      "min_width": null,
      "object_fit": null,
      "object_position": null,
      "order": null,
      "overflow": null,
      "overflow_x": null,
      "overflow_y": null,
      "padding": null,
      "right": null,
      "top": null,
      "visibility": null,
      "width": null
     }
    },
    "afede647ab214b92a6158f81d7af1b5b": {
     "model_module": "@jupyter-widgets/base",
     "model_name": "LayoutModel",
     "state": {
      "_model_module": "@jupyter-widgets/base",
      "_model_module_version": "1.2.0",
      "_model_name": "LayoutModel",
      "_view_count": null,
      "_view_module": "@jupyter-widgets/base",
      "_view_module_version": "1.2.0",
      "_view_name": "LayoutView",
      "align_content": null,
      "align_items": null,
      "align_self": null,
      "border": null,
      "bottom": null,
      "display": null,
      "flex": null,
      "flex_flow": null,
      "grid_area": null,
      "grid_auto_columns": null,
      "grid_auto_flow": null,
      "grid_auto_rows": null,
      "grid_column": null,
      "grid_gap": null,
      "grid_row": null,
      "grid_template_areas": null,
      "grid_template_columns": null,
      "grid_template_rows": null,
      "height": null,
      "justify_content": null,
      "justify_items": null,
      "left": null,
      "margin": null,
      "max_height": null,
      "max_width": null,
      "min_height": null,
      "min_width": null,
      "object_fit": null,
      "object_position": null,
      "order": null,
      "overflow": null,
      "overflow_x": null,
      "overflow_y": null,
      "padding": null,
      "right": null,
      "top": null,
      "visibility": null,
      "width": null
     }
    },
    "b004abc8aa9f42f9b6d2de4ba0b67354": {
     "model_module": "@jupyter-widgets/controls",
     "model_name": "HTMLModel",
     "state": {
      "_dom_classes": [],
      "_model_module": "@jupyter-widgets/controls",
      "_model_module_version": "1.5.0",
      "_model_name": "HTMLModel",
      "_view_count": null,
      "_view_module": "@jupyter-widgets/controls",
      "_view_module_version": "1.5.0",
      "_view_name": "HTMLView",
      "description": "",
      "description_tooltip": null,
      "layout": "IPY_MODEL_30585ce7fa5b4630b247a5baddaba8b5",
      "placeholder": "​",
      "style": "IPY_MODEL_316cf25da6ea481b8d0185645882461f",
      "value": " 250/? [00:25&lt;00:00,  9.93it/s]"
     }
    },
    "b279fbd8ee194722a43b811cbbb94619": {
     "model_module": "@jupyter-widgets/controls",
     "model_name": "DescriptionStyleModel",
     "state": {
      "_model_module": "@jupyter-widgets/controls",
      "_model_module_version": "1.5.0",
      "_model_name": "DescriptionStyleModel",
      "_view_count": null,
      "_view_module": "@jupyter-widgets/base",
      "_view_module_version": "1.2.0",
      "_view_name": "StyleView",
      "description_width": ""
     }
    },
    "b3a9e5f716694a02a689643800adb9a5": {
     "model_module": "@jupyter-widgets/controls",
     "model_name": "FloatProgressModel",
     "state": {
      "_dom_classes": [],
      "_model_module": "@jupyter-widgets/controls",
      "_model_module_version": "1.5.0",
      "_model_name": "FloatProgressModel",
      "_view_count": null,
      "_view_module": "@jupyter-widgets/controls",
      "_view_module_version": "1.5.0",
      "_view_name": "ProgressView",
      "bar_style": "success",
      "description": "",
      "description_tooltip": null,
      "layout": "IPY_MODEL_b581a174a90a442f8c94c0ffc1ed002c",
      "max": 1,
      "min": 0,
      "orientation": "horizontal",
      "style": "IPY_MODEL_303c3cb14a254afc86180d0b5f478dc9",
      "value": 1
     }
    },
    "b42ab3eb8ca542639138921b1a385650": {
     "model_module": "@jupyter-widgets/controls",
     "model_name": "HTMLModel",
     "state": {
      "_dom_classes": [],
      "_model_module": "@jupyter-widgets/controls",
      "_model_module_version": "1.5.0",
      "_model_name": "HTMLModel",
      "_view_count": null,
      "_view_module": "@jupyter-widgets/controls",
      "_view_module_version": "1.5.0",
      "_view_name": "HTMLView",
      "description": "",
      "description_tooltip": null,
      "layout": "IPY_MODEL_805e1ea513334d5c9bbdc46dd4f3e5e8",
      "placeholder": "​",
      "style": "IPY_MODEL_115a8e1e571f4438ba4810e79039362e",
      "value": " 250/? [00:59&lt;00:00,  4.18it/s]"
     }
    },
    "b581a174a90a442f8c94c0ffc1ed002c": {
     "model_module": "@jupyter-widgets/base",
     "model_name": "LayoutModel",
     "state": {
      "_model_module": "@jupyter-widgets/base",
      "_model_module_version": "1.2.0",
      "_model_name": "LayoutModel",
      "_view_count": null,
      "_view_module": "@jupyter-widgets/base",
      "_view_module_version": "1.2.0",
      "_view_name": "LayoutView",
      "align_content": null,
      "align_items": null,
      "align_self": null,
      "border": null,
      "bottom": null,
      "display": null,
      "flex": null,
      "flex_flow": null,
      "grid_area": null,
      "grid_auto_columns": null,
      "grid_auto_flow": null,
      "grid_auto_rows": null,
      "grid_column": null,
      "grid_gap": null,
      "grid_row": null,
      "grid_template_areas": null,
      "grid_template_columns": null,
      "grid_template_rows": null,
      "height": null,
      "justify_content": null,
      "justify_items": null,
      "left": null,
      "margin": null,
      "max_height": null,
      "max_width": null,
      "min_height": null,
      "min_width": null,
      "object_fit": null,
      "object_position": null,
      "order": null,
      "overflow": null,
      "overflow_x": null,
      "overflow_y": null,
      "padding": null,
      "right": null,
      "top": null,
      "visibility": null,
      "width": null
     }
    },
    "ba26a331fec94a299291525e743e100f": {
     "model_module": "@jupyter-widgets/controls",
     "model_name": "FloatProgressModel",
     "state": {
      "_dom_classes": [],
      "_model_module": "@jupyter-widgets/controls",
      "_model_module_version": "1.5.0",
      "_model_name": "FloatProgressModel",
      "_view_count": null,
      "_view_module": "@jupyter-widgets/controls",
      "_view_module_version": "1.5.0",
      "_view_name": "ProgressView",
      "bar_style": "success",
      "description": "",
      "description_tooltip": null,
      "layout": "IPY_MODEL_6163a0465db047f89ca7a560b34fee9b",
      "max": 1,
      "min": 0,
      "orientation": "horizontal",
      "style": "IPY_MODEL_4795dbd4251043d1ae29fc0d8f37bdcb",
      "value": 1
     }
    },
    "bb030d945e4e4c299a8b97a0095eca02": {
     "model_module": "@jupyter-widgets/base",
     "model_name": "LayoutModel",
     "state": {
      "_model_module": "@jupyter-widgets/base",
      "_model_module_version": "1.2.0",
      "_model_name": "LayoutModel",
      "_view_count": null,
      "_view_module": "@jupyter-widgets/base",
      "_view_module_version": "1.2.0",
      "_view_name": "LayoutView",
      "align_content": null,
      "align_items": null,
      "align_self": null,
      "border": null,
      "bottom": null,
      "display": null,
      "flex": null,
      "flex_flow": null,
      "grid_area": null,
      "grid_auto_columns": null,
      "grid_auto_flow": null,
      "grid_auto_rows": null,
      "grid_column": null,
      "grid_gap": null,
      "grid_row": null,
      "grid_template_areas": null,
      "grid_template_columns": null,
      "grid_template_rows": null,
      "height": null,
      "justify_content": null,
      "justify_items": null,
      "left": null,
      "margin": null,
      "max_height": null,
      "max_width": null,
      "min_height": null,
      "min_width": null,
      "object_fit": null,
      "object_position": null,
      "order": null,
      "overflow": null,
      "overflow_x": null,
      "overflow_y": null,
      "padding": null,
      "right": null,
      "top": null,
      "visibility": null,
      "width": null
     }
    },
    "bb4d6399905f4b1588e6d38263efcd05": {
     "model_module": "@jupyter-widgets/controls",
     "model_name": "HBoxModel",
     "state": {
      "_dom_classes": [],
      "_model_module": "@jupyter-widgets/controls",
      "_model_module_version": "1.5.0",
      "_model_name": "HBoxModel",
      "_view_count": null,
      "_view_module": "@jupyter-widgets/controls",
      "_view_module_version": "1.5.0",
      "_view_name": "HBoxView",
      "box_style": "",
      "children": [
       "IPY_MODEL_ba26a331fec94a299291525e743e100f",
       "IPY_MODEL_39d46a489d774b2eac0237ccbd5d5931"
      ],
      "layout": "IPY_MODEL_69cd426c9ecc4b619ef96166a5275214"
     }
    },
    "c2c0eed703ac4ec3b6643f3973443e88": {
     "model_module": "@jupyter-widgets/base",
     "model_name": "LayoutModel",
     "state": {
      "_model_module": "@jupyter-widgets/base",
      "_model_module_version": "1.2.0",
      "_model_name": "LayoutModel",
      "_view_count": null,
      "_view_module": "@jupyter-widgets/base",
      "_view_module_version": "1.2.0",
      "_view_name": "LayoutView",
      "align_content": null,
      "align_items": null,
      "align_self": null,
      "border": null,
      "bottom": null,
      "display": null,
      "flex": null,
      "flex_flow": null,
      "grid_area": null,
      "grid_auto_columns": null,
      "grid_auto_flow": null,
      "grid_auto_rows": null,
      "grid_column": null,
      "grid_gap": null,
      "grid_row": null,
      "grid_template_areas": null,
      "grid_template_columns": null,
      "grid_template_rows": null,
      "height": null,
      "justify_content": null,
      "justify_items": null,
      "left": null,
      "margin": null,
      "max_height": null,
      "max_width": null,
      "min_height": null,
      "min_width": null,
      "object_fit": null,
      "object_position": null,
      "order": null,
      "overflow": null,
      "overflow_x": null,
      "overflow_y": null,
      "padding": null,
      "right": null,
      "top": null,
      "visibility": null,
      "width": null
     }
    },
    "c322e7cb475040aabf23105fe9a9e56a": {
     "model_module": "@jupyter-widgets/controls",
     "model_name": "HTMLModel",
     "state": {
      "_dom_classes": [],
      "_model_module": "@jupyter-widgets/controls",
      "_model_module_version": "1.5.0",
      "_model_name": "HTMLModel",
      "_view_count": null,
      "_view_module": "@jupyter-widgets/controls",
      "_view_module_version": "1.5.0",
      "_view_name": "HTMLView",
      "description": "",
      "description_tooltip": null,
      "layout": "IPY_MODEL_c7b7acb1bfb14a3ea2c41c17b72af12b",
      "placeholder": "​",
      "style": "IPY_MODEL_b279fbd8ee194722a43b811cbbb94619",
      "value": " 250/? [00:33&lt;00:00,  7.42it/s]"
     }
    },
    "c57dadb319ec4f1f81b92dbdb77a63a0": {
     "model_module": "@jupyter-widgets/controls",
     "model_name": "ProgressStyleModel",
     "state": {
      "_model_module": "@jupyter-widgets/controls",
      "_model_module_version": "1.5.0",
      "_model_name": "ProgressStyleModel",
      "_view_count": null,
      "_view_module": "@jupyter-widgets/base",
      "_view_module_version": "1.2.0",
      "_view_name": "StyleView",
      "bar_color": null,
      "description_width": "initial"
     }
    },
    "c7b7acb1bfb14a3ea2c41c17b72af12b": {
     "model_module": "@jupyter-widgets/base",
     "model_name": "LayoutModel",
     "state": {
      "_model_module": "@jupyter-widgets/base",
      "_model_module_version": "1.2.0",
      "_model_name": "LayoutModel",
      "_view_count": null,
      "_view_module": "@jupyter-widgets/base",
      "_view_module_version": "1.2.0",
      "_view_name": "LayoutView",
      "align_content": null,
      "align_items": null,
      "align_self": null,
      "border": null,
      "bottom": null,
      "display": null,
      "flex": null,
      "flex_flow": null,
      "grid_area": null,
      "grid_auto_columns": null,
      "grid_auto_flow": null,
      "grid_auto_rows": null,
      "grid_column": null,
      "grid_gap": null,
      "grid_row": null,
      "grid_template_areas": null,
      "grid_template_columns": null,
      "grid_template_rows": null,
      "height": null,
      "justify_content": null,
      "justify_items": null,
      "left": null,
      "margin": null,
      "max_height": null,
      "max_width": null,
      "min_height": null,
      "min_width": null,
      "object_fit": null,
      "object_position": null,
      "order": null,
      "overflow": null,
      "overflow_x": null,
      "overflow_y": null,
      "padding": null,
      "right": null,
      "top": null,
      "visibility": null,
      "width": null
     }
    },
    "c7dadbec9cba46e098a5652ec55f3467": {
     "model_module": "@jupyter-widgets/controls",
     "model_name": "HTMLModel",
     "state": {
      "_dom_classes": [],
      "_model_module": "@jupyter-widgets/controls",
      "_model_module_version": "1.5.0",
      "_model_name": "HTMLModel",
      "_view_count": null,
      "_view_module": "@jupyter-widgets/controls",
      "_view_module_version": "1.5.0",
      "_view_name": "HTMLView",
      "description": "",
      "description_tooltip": null,
      "layout": "IPY_MODEL_c2c0eed703ac4ec3b6643f3973443e88",
      "placeholder": "​",
      "style": "IPY_MODEL_322273b38b71464fac0eb7b22920add8",
      "value": " 250/? [00:16&lt;00:00, 14.86it/s]"
     }
    },
    "d59ccbaf90f84179a129edc0de206092": {
     "model_module": "@jupyter-widgets/controls",
     "model_name": "HBoxModel",
     "state": {
      "_dom_classes": [],
      "_model_module": "@jupyter-widgets/controls",
      "_model_module_version": "1.5.0",
      "_model_name": "HBoxModel",
      "_view_count": null,
      "_view_module": "@jupyter-widgets/controls",
      "_view_module_version": "1.5.0",
      "_view_name": "HBoxView",
      "box_style": "",
      "children": [
       "IPY_MODEL_8eef360df096408585578090576c42c3",
       "IPY_MODEL_c7dadbec9cba46e098a5652ec55f3467"
      ],
      "layout": "IPY_MODEL_25ed9dc6d04d44eba124c20543a17d7a"
     }
    },
    "d873eda2abca499d93b2eb461b2fb8f8": {
     "model_module": "@jupyter-widgets/base",
     "model_name": "LayoutModel",
     "state": {
      "_model_module": "@jupyter-widgets/base",
      "_model_module_version": "1.2.0",
      "_model_name": "LayoutModel",
      "_view_count": null,
      "_view_module": "@jupyter-widgets/base",
      "_view_module_version": "1.2.0",
      "_view_name": "LayoutView",
      "align_content": null,
      "align_items": null,
      "align_self": null,
      "border": null,
      "bottom": null,
      "display": null,
      "flex": null,
      "flex_flow": null,
      "grid_area": null,
      "grid_auto_columns": null,
      "grid_auto_flow": null,
      "grid_auto_rows": null,
      "grid_column": null,
      "grid_gap": null,
      "grid_row": null,
      "grid_template_areas": null,
      "grid_template_columns": null,
      "grid_template_rows": null,
      "height": null,
      "justify_content": null,
      "justify_items": null,
      "left": null,
      "margin": null,
      "max_height": null,
      "max_width": null,
      "min_height": null,
      "min_width": null,
      "object_fit": null,
      "object_position": null,
      "order": null,
      "overflow": null,
      "overflow_x": null,
      "overflow_y": null,
      "padding": null,
      "right": null,
      "top": null,
      "visibility": null,
      "width": null
     }
    },
    "e3a16d0cdb104a4785f444c74839ed96": {
     "model_module": "@jupyter-widgets/base",
     "model_name": "LayoutModel",
     "state": {
      "_model_module": "@jupyter-widgets/base",
      "_model_module_version": "1.2.0",
      "_model_name": "LayoutModel",
      "_view_count": null,
      "_view_module": "@jupyter-widgets/base",
      "_view_module_version": "1.2.0",
      "_view_name": "LayoutView",
      "align_content": null,
      "align_items": null,
      "align_self": null,
      "border": null,
      "bottom": null,
      "display": null,
      "flex": null,
      "flex_flow": null,
      "grid_area": null,
      "grid_auto_columns": null,
      "grid_auto_flow": null,
      "grid_auto_rows": null,
      "grid_column": null,
      "grid_gap": null,
      "grid_row": null,
      "grid_template_areas": null,
      "grid_template_columns": null,
      "grid_template_rows": null,
      "height": null,
      "justify_content": null,
      "justify_items": null,
      "left": null,
      "margin": null,
      "max_height": null,
      "max_width": null,
      "min_height": null,
      "min_width": null,
      "object_fit": null,
      "object_position": null,
      "order": null,
      "overflow": null,
      "overflow_x": null,
      "overflow_y": null,
      "padding": null,
      "right": null,
      "top": null,
      "visibility": null,
      "width": null
     }
    },
    "ee4629d6ef2d4827937d66616049d055": {
     "model_module": "@jupyter-widgets/controls",
     "model_name": "ProgressStyleModel",
     "state": {
      "_model_module": "@jupyter-widgets/controls",
      "_model_module_version": "1.5.0",
      "_model_name": "ProgressStyleModel",
      "_view_count": null,
      "_view_module": "@jupyter-widgets/base",
      "_view_module_version": "1.2.0",
      "_view_name": "StyleView",
      "bar_color": null,
      "description_width": "initial"
     }
    },
    "f0ac69d1825941aab99c9c87630c23e2": {
     "model_module": "@jupyter-widgets/controls",
     "model_name": "DescriptionStyleModel",
     "state": {
      "_model_module": "@jupyter-widgets/controls",
      "_model_module_version": "1.5.0",
      "_model_name": "DescriptionStyleModel",
      "_view_count": null,
      "_view_module": "@jupyter-widgets/base",
      "_view_module_version": "1.2.0",
      "_view_name": "StyleView",
      "description_width": ""
     }
    },
    "f30043d33c824519b4ad2f2a0765430d": {
     "model_module": "@jupyter-widgets/controls",
     "model_name": "HTMLModel",
     "state": {
      "_dom_classes": [],
      "_model_module": "@jupyter-widgets/controls",
      "_model_module_version": "1.5.0",
      "_model_name": "HTMLModel",
      "_view_count": null,
      "_view_module": "@jupyter-widgets/controls",
      "_view_module_version": "1.5.0",
      "_view_name": "HTMLView",
      "description": "",
      "description_tooltip": null,
      "layout": "IPY_MODEL_ab997c18d84740e9ab1fd2fa472a2b9d",
      "placeholder": "​",
      "style": "IPY_MODEL_3ad1659f25ba4f6c90edad0e12af47a5",
      "value": " 250/? [00:08&lt;00:00, 29.63it/s]"
     }
    },
    "f9375ec84dea466b9ae15bd140550521": {
     "model_module": "@jupyter-widgets/base",
     "model_name": "LayoutModel",
     "state": {
      "_model_module": "@jupyter-widgets/base",
      "_model_module_version": "1.2.0",
      "_model_name": "LayoutModel",
      "_view_count": null,
      "_view_module": "@jupyter-widgets/base",
      "_view_module_version": "1.2.0",
      "_view_name": "LayoutView",
      "align_content": null,
      "align_items": null,
      "align_self": null,
      "border": null,
      "bottom": null,
      "display": null,
      "flex": null,
      "flex_flow": null,
      "grid_area": null,
      "grid_auto_columns": null,
      "grid_auto_flow": null,
      "grid_auto_rows": null,
      "grid_column": null,
      "grid_gap": null,
      "grid_row": null,
      "grid_template_areas": null,
      "grid_template_columns": null,
      "grid_template_rows": null,
      "height": null,
      "justify_content": null,
      "justify_items": null,
      "left": null,
      "margin": null,
      "max_height": null,
      "max_width": null,
      "min_height": null,
      "min_width": null,
      "object_fit": null,
      "object_position": null,
      "order": null,
      "overflow": null,
      "overflow_x": null,
      "overflow_y": null,
      "padding": null,
      "right": null,
      "top": null,
      "visibility": null,
      "width": null
     }
    },
    "fadb39a3509e4832bb432dcb2f786663": {
     "model_module": "@jupyter-widgets/base",
     "model_name": "LayoutModel",
     "state": {
      "_model_module": "@jupyter-widgets/base",
      "_model_module_version": "1.2.0",
      "_model_name": "LayoutModel",
      "_view_count": null,
      "_view_module": "@jupyter-widgets/base",
      "_view_module_version": "1.2.0",
      "_view_name": "LayoutView",
      "align_content": null,
      "align_items": null,
      "align_self": null,
      "border": null,
      "bottom": null,
      "display": null,
      "flex": null,
      "flex_flow": null,
      "grid_area": null,
      "grid_auto_columns": null,
      "grid_auto_flow": null,
      "grid_auto_rows": null,
      "grid_column": null,
      "grid_gap": null,
      "grid_row": null,
      "grid_template_areas": null,
      "grid_template_columns": null,
      "grid_template_rows": null,
      "height": null,
      "justify_content": null,
      "justify_items": null,
      "left": null,
      "margin": null,
      "max_height": null,
      "max_width": null,
      "min_height": null,
      "min_width": null,
      "object_fit": null,
      "object_position": null,
      "order": null,
      "overflow": null,
      "overflow_x": null,
      "overflow_y": null,
      "padding": null,
      "right": null,
      "top": null,
      "visibility": null,
      "width": null
     }
    },
    "fd7082b8c3444cf09c4055ebb9f6ffe8": {
     "model_module": "@jupyter-widgets/controls",
     "model_name": "HBoxModel",
     "state": {
      "_dom_classes": [],
      "_model_module": "@jupyter-widgets/controls",
      "_model_module_version": "1.5.0",
      "_model_name": "HBoxModel",
      "_view_count": null,
      "_view_module": "@jupyter-widgets/controls",
      "_view_module_version": "1.5.0",
      "_view_name": "HBoxView",
      "box_style": "",
      "children": [
       "IPY_MODEL_09d4403246274d3d86e1d95de928359b",
       "IPY_MODEL_969a5ff9b36a4006b9644f1ef7e315d8"
      ],
      "layout": "IPY_MODEL_9b811973de5845e194bbb3a00603f4c2"
     }
    }
   }
  }
 },
 "nbformat": 4,
 "nbformat_minor": 4
}
