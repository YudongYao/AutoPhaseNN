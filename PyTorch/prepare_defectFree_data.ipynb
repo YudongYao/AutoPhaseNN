{
 "cells": [
  {
   "cell_type": "code",
   "execution_count": null,
   "metadata": {},
   "outputs": [],
   "source": [
    "import os\n",
    "import numpy as np\n",
    "import matplotlib.pylab as plt\n",
    "from tqdm import tqdm"
   ]
  },
  {
   "cell_type": "code",
   "execution_count": null,
   "metadata": {},
   "outputs": [],
   "source": [
    "import tensorflow as tf"
   ]
  },
  {
   "cell_type": "code",
   "execution_count": null,
   "metadata": {},
   "outputs": [],
   "source": [
    "datadir = '/lcrc/project/CDIdefect/aicdi_generate_defect_data/'\n",
    "\n",
    "sets = [51,52]"
   ]
  },
  {
   "cell_type": "code",
   "execution_count": null,
   "metadata": {},
   "outputs": [],
   "source": [
    "resize_shape = 40\n",
    "savedir = '/lcrc/project/AutoPhase/CDInodefect_resized%d_centered/' %resize_shape\n",
    "\n",
    "if not os.path.isdir(savedir):\n",
    "    os.mkdir(savedir)"
   ]
  },
  {
   "cell_type": "code",
   "execution_count": null,
   "metadata": {},
   "outputs": [],
   "source": [
    "def load_normalize_resize_obj_amp(filename,shape=resize_shape):\n",
    "        \n",
    "    data = np.load(filename)\n",
    "    \n",
    "    h,w,t = data.shape\n",
    "    shape = shape//2\n",
    "    \n",
    "    maxpos=np.unravel_index(np.abs(data).argmax(),data.shape) #Gives you index of max as a tuple\n",
    "#     print(maxpos)\n",
    "\n",
    "#     maxpos = [h//2,w//2,t//2]\n",
    "    \n",
    "    diff_s = data[maxpos[0]-shape:maxpos[0]+shape,maxpos[1]-shape:maxpos[1]+shape,maxpos[2]-shape:maxpos[2]+shape]\n",
    "    \n",
    "    obj_s = np.fft.ifftshift(np.fft.ifftn(np.fft.ifftshift(diff_s)))\n",
    "    \n",
    "    obj = np.zeros((h,w,t),dtype='complex')\n",
    "    obj[h//2-shape:h//2+shape,w//2-shape:w//2+shape,t//2-shape:t//2+shape] = obj_s\n",
    "    \n",
    "    diff = np.fft.fftshift(np.fft.fftn(obj))\n",
    "    scale = np.max(np.abs(obj))\n",
    "    diff = diff/scale\n",
    "\n",
    "    return diff"
   ]
  },
  {
   "cell_type": "code",
   "execution_count": null,
   "metadata": {},
   "outputs": [],
   "source": [
    "for set_index in sets:\n",
    "    data_folder = os.path.join(datadir,'set%d_nodefect/' %set_index, 'pattern/')\n",
    "    filelist = sorted(os.listdir(data_folder))\n",
    "    print('number of files:%d' %len(filelist))\n",
    "    \n",
    "    for i in tqdm(range(len(filelist))):\n",
    "        \n",
    "        try:\n",
    "            resized_diff = load_normalize_resize_obj_amp(os.path.join(data_folder,filelist[i]))\n",
    "            savename = savedir+'set%d_' %set_index+filelist[i]\n",
    "            np.save(savename,resized_diff)\n",
    "            \n",
    "        except:\n",
    "            continue"
   ]
  },
  {
   "cell_type": "code",
   "execution_count": null,
   "metadata": {},
   "outputs": [],
   "source": [
    "dataname_list = os.path.join(savedir,'CDI_defectFree.txt')\n",
    "print(dataname_list)\n",
    "\n",
    "if os.path.exists(dataname_list):\n",
    "    os.remove(dataname_list)\n",
    "    \n",
    "entries = sorted(os.listdir(savedir))\n",
    "print(len(entries))\n",
    "\n",
    "a = open(dataname_list, \"a\")\n",
    "i = 0\n",
    "for entry in entries:  \n",
    "    a.write(entry + os.linesep)\n",
    "a.close()\n"
   ]
  },
  {
   "cell_type": "markdown",
   "metadata": {},
   "source": [
    "# augumentation"
   ]
  },
  {
   "cell_type": "code",
   "execution_count": null,
   "metadata": {},
   "outputs": [],
   "source": [
    "import numpy as np\n",
    "import matplotlib.pylab as plt\n",
    "from scipy.ndimage.measurements import center_of_mass as com\n",
    "from scipy.ndimage.interpolation import shift\n",
    "from scipy.ndimage.interpolation import rotate as R\n",
    "from tqdm import tqdm\n",
    "from joblib import Parallel, delayed\n",
    "import shutil, tempfile\n",
    "import os\n",
    "import random\n",
    "\n",
    "import multiprocessing as ms\n",
    "import concurrent.futures\n",
    "\n",
    "import func_oversample as func"
   ]
  },
  {
   "cell_type": "code",
   "execution_count": null,
   "metadata": {},
   "outputs": [],
   "source": [
    "datadir = '/lcrc/project/CDIdefect/aicdi_generate_defect_data/'\n",
    "\n",
    "setNo = [51,52]"
   ]
  },
  {
   "cell_type": "code",
   "execution_count": null,
   "metadata": {},
   "outputs": [],
   "source": [
    "resize_shape = 32\n",
    "save_folder = '/lcrc/project/AutoPhase/CDInodefect_resized%d_aug/' %resize_shape\n",
    "\n",
    "if not os.path.isdir(save_folder):\n",
    "    os.mkdir(save_folder)"
   ]
  },
  {
   "cell_type": "code",
   "execution_count": null,
   "metadata": {},
   "outputs": [],
   "source": [
    "def crop_pad(IN,dim):\n",
    "    [h,w,t] = IN.shape\n",
    "    output = np.zeros(dim,dtype=IN.dtype)\n",
    "    \n",
    "    if h>=dim[0] and w>=dim[1] and t>=dim[2]:\n",
    "        output = IN[h//2-dim[0]//2:h//2+dim[0]//2,w//2-dim[1]//2:w//2+dim[1]//2,t//2-dim[2]//2:t//2+dim[2]//2]\n",
    "    else:\n",
    "        ps = np.max([[h,w,t],list(dim)],axis=0)\n",
    "\n",
    "        lb = ps//2-(np.floor(np.array([h,w,t])/2)).astype('int32')\n",
    "        ub = ps//2+(np.ceil(np.array([h,w,t])/2)).astype('int32')\n",
    "\n",
    "        IN_pad = np.zeros(ps,dtype=IN.dtype)\n",
    "        IN_pad[lb[0]:ub[0],lb[1]:ub[1],lb[2]:ub[2]]=IN\n",
    "\n",
    "        lb = ps//2-(np.floor(np.array(dim)/2)).astype('int32')\n",
    "        ub = ps//2+(np.ceil(np.array(dim)/2)).astype('int32')\n",
    "\n",
    "        output = IN_pad[lb[0]:ub[0],lb[1]:ub[1],lb[2]:ub[2]]\n",
    "    return output\n",
    "\n",
    "def Resize(IN,dim):\n",
    "    # from skimage.transform import resize\n",
    "    # output = resize(IN, dim, preserve_range=True, anti_aliasing=True)\n",
    "    ft = np.fft.fftshift(np.fft.fftn(IN))/np.prod(IN.shape)\n",
    "    ft_resize = crop_pad(ft,dim)\n",
    "    output = np.fft.ifftn(np.fft.ifftshift(ft_resize))*np.prod(dim)\n",
    "\n",
    "    return output"
   ]
  },
  {
   "cell_type": "code",
   "execution_count": null,
   "metadata": {},
   "outputs": [],
   "source": [
    "M=64\n",
    "def create_obj_os(file,set_index=0,shape=resize_shape,save_folder=save_folder):\n",
    "\n",
    "    filename = os.path.join(datadir,'set%d_nodefect/' %set_index, 'pattern/',file)\n",
    "    #over sampling list\n",
    "    os_list = [[1,1,1], [2,1,1],[1,2,1],[1,1,2],[1,2,2],[2,1,2],[2,2,1]]\n",
    "    name = str(filename).split('.')[0]\n",
    "    shape = shape//2\n",
    "    \n",
    "    for jj in range(len(os_list)):\n",
    "        \n",
    "        data = np.load(os.path.join(filename))\n",
    "        \n",
    "        h,w,t = data.shape\n",
    "        \n",
    "        maxpos = [h//2, w//2, t//2]\n",
    "        diff = data[maxpos[0]-shape:maxpos[0]+shape,maxpos[1]-shape:maxpos[1]+shape,maxpos[2]-shape:maxpos[2]+shape]\n",
    "        \n",
    "        obj = np.fft.ifftshift(np.fft.ifftn(np.fft.ifftshift(diff)))\n",
    "        s = obj.shape[0]\n",
    "        dim = [s//os for os in os_list[jj]]\n",
    "        obj_resize = Resize(obj,dim)\n",
    "        \n",
    "        #Zero everything outside object\n",
    "        obj_resize=np.where(np.abs(obj_resize)<0.1, 0, obj_resize)\n",
    "\n",
    "        realspace = np.zeros((M,M,M),dtype = np.complex128)\n",
    "        realspace[M//2-dim[0]//2:M//2+dim[0]//2,M//2-dim[1]//2:M//2+dim[1]//2,M//2-dim[2]//2:M//2+dim[2]//2] = obj_resize\n",
    "        \n",
    "        diff = np.fft.fftshift(np.fft.fftn(realspace))\n",
    "        diff = np.complex64(diff)\n",
    "        \n",
    "        scale = np.max(np.abs(realspace))\n",
    "        diff = diff/scale\n",
    "        \n",
    "        savename = save_folder+'set%d_' %set_index+file+'_%d'%(jj)\n",
    "        np.save(savename,diff)"
   ]
  },
  {
   "cell_type": "code",
   "execution_count": null,
   "metadata": {},
   "outputs": [],
   "source": [
    "def data_generator(setIndex,datadir,savedir):\n",
    "    \n",
    "    if isinstance(setIndex, list):\n",
    "        for index_each in setIndex:\n",
    "            \n",
    "            data_folder = os.path.join(datadir,'set%d_nodefect/' %index_each, 'pattern/')\n",
    "            filelist = sorted(os.listdir(data_folder))\n",
    "\n",
    "            for file in tqdm(filelist):\n",
    "                   \n",
    "                create_obj_os(file, index_each,resize_shape,save_folder)                  \n",
    "            \n",
    "    else:\n",
    "        data_folder = os.path.join(datadir,'set%d_nodefect/' %setIndex, 'pattern/')\n",
    "        filelist = sorted(os.listdir(data_folder))\n",
    "\n",
    "        for file in tqdm(filelist):\n",
    "            \n",
    "            create_obj_os(file, setIndex,resize_shape,save_folder)  "
   ]
  },
  {
   "cell_type": "code",
   "execution_count": null,
   "metadata": {},
   "outputs": [],
   "source": [
    "data_generator(setNo,datadir,save_folder)"
   ]
  },
  {
   "cell_type": "code",
   "execution_count": null,
   "metadata": {},
   "outputs": [],
   "source": [
    "dataname_list = os.path.join(save_folder,'CDI_defectFree.txt')\n",
    "print(dataname_list)\n",
    "\n",
    "if os.path.exists(dataname_list):\n",
    "    os.remove(dataname_list)\n",
    "    \n",
    "entries = sorted(os.listdir(save_folder))\n",
    "print(len(entries))\n",
    "\n",
    "a = open(dataname_list, \"a\")\n",
    "\n",
    "for entry in entries:  \n",
    "    a.write(entry + os.linesep)\n",
    "a.close()"
   ]
  },
  {
   "cell_type": "code",
   "execution_count": null,
   "metadata": {},
   "outputs": [],
   "source": []
  }
 ],
 "metadata": {
  "kernelspec": {
   "display_name": "tf241",
   "language": "python",
   "name": "tf241"
  },
  "language_info": {
   "codemirror_mode": {
    "name": "ipython",
    "version": 3
   },
   "file_extension": ".py",
   "mimetype": "text/x-python",
   "name": "python",
   "nbconvert_exporter": "python",
   "pygments_lexer": "ipython3",
   "version": "3.8.13"
  }
 },
 "nbformat": 4,
 "nbformat_minor": 5
}
